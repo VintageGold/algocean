{
 "cells": [
  {
   "cell_type": "code",
   "execution_count": 1,
   "id": "da7ad93f-a03b-4150-a30c-53bcde16311c",
   "metadata": {},
   "outputs": [
    {
     "name": "stdout",
     "output_type": "stream",
     "text": [
      "Created data NFT. Its address is 0xb38b5A1A0B7c48099a8C53dD179726bf8A416538\n"
     ]
    }
   ],
   "source": [
    "# Create Ocean instance\n",
    "from ocean_lib.example_config import ExampleConfig\n",
    "from ocean_lib.ocean.ocean import Ocean\n",
    "config = ExampleConfig.get_config()\n",
    "ocean = Ocean(config)\n",
    "\n",
    "# Create Alice's wallet\n",
    "import os\n",
    "from ocean_lib.web3_internal.wallet import Wallet\n",
    "alice_private_key = os.getenv('TEST_PRIVATE_KEY1')\n",
    "alice_wallet = Wallet(ocean.web3, alice_private_key, config.block_confirmations, config.transaction_timeout)\n",
    "\n",
    "# Publish an NFT token\n",
    "data_nft = ocean.create_data_nft('NFTToken1', 'NFT1', alice_wallet)\n",
    "print(f\"Created data NFT. Its address is {data_nft.address}\")"
   ]
  },
  {
   "cell_type": "code",
   "execution_count": 2,
   "id": "4f263328-bd94-477e-8341-c064b963ea05",
   "metadata": {},
   "outputs": [
    {
     "name": "stdout",
     "output_type": "stream",
     "text": [
      "Created datatoken. Its address is 0x0356a886Ad462e18880F1E6bfbBcb035759b127D\n"
     ]
    }
   ],
   "source": [
    "# Create datatoken related to the above NFT.\n",
    "\n",
    "datatoken = data_nft.create_datatoken(\"Datatoken 1\", \"DT1\", from_wallet=alice_wallet)\n",
    "print(f\"Created datatoken. Its address is {datatoken.address}\")"
   ]
  },
  {
   "cell_type": "code",
   "execution_count": 3,
   "id": "f0b6fab2-e66a-4641-b6cc-807e384952e0",
   "metadata": {},
   "outputs": [
    {
     "name": "stdout",
     "output_type": "stream",
     "text": [
      "config.network_url = 'http://172.15.0.3:8545'\n",
      "config.block_confirmations = 0\n",
      "config.metadata_cache_uri = 'http://172.15.0.5:5000'\n",
      "config.provider_url = 'http://172.15.0.4:8030'\n",
      "alice_wallet.address = '0x02354A1F160A3fd7ac8b02ee91F04104440B28E7'\n",
      "data NFT token name: NFTToken1\n",
      "data NFT symbol: NFT1\n",
      "datatoken name: Datatoken 1\n",
      "datatoken symbol: DT1\n"
     ]
    }
   ],
   "source": [
    "# config\n",
    "print(f\"config.network_url = '{config.network_url}'\")\n",
    "print(f\"config.block_confirmations = {config.block_confirmations.value}\")\n",
    "print(f\"config.metadata_cache_uri = '{config.metadata_cache_uri}'\")\n",
    "print(f\"config.provider_url = '{config.provider_url}'\")\n",
    "\n",
    "# wallet\n",
    "print(f\"alice_wallet.address = '{alice_wallet.address}'\")\n",
    "\n",
    "# data NFT\n",
    "print(f\"data NFT token name: {data_nft.token_name()}\")\n",
    "print(f\"data NFT symbol: {data_nft.symbol()}\")\n",
    "\n",
    "# datatoken\n",
    "print(f\"datatoken name: {datatoken.token_name()}\")\n",
    "print(f\"datatoken symbol: {datatoken.symbol()}\")"
   ]
  },
  {
   "cell_type": "code",
   "execution_count": 4,
   "id": "b569c383-a1f8-4187-9cc4-310ac8d5935f",
   "metadata": {},
   "outputs": [
    {
     "name": "stdout",
     "output_type": "stream",
     "text": [
      "DATA_datatoken address = '0x613849130D489Ae7CEC220c613f680E5DC560cc7'\n"
     ]
    },
    {
     "name": "stderr",
     "output_type": "stream",
     "text": [
      "INFO:ocean_lib.data_provider.data_encryptor:Asset urls encrypted successfully, encrypted urls str: 0x0447eebca5cb6b965cd53257cde9e09787157f9b0e075a11d2ec17c7c48388913893b22b6a3a4fa1a9a4cd035edf3501303838c27b3c93e6d325bf32d6a6dfd44f65c3d8c7b488a4438fcd2294a1f887b634a6a771d0c0e7443bfdff99334724ff341241eed7fcb3117bb2f0b7752959fa1c50d3dc4c7ed60a56c68af9980e33c4e27eb3196d5eef7358e1a94c65d7bbca2a84cb4bb8f4325ac86b836d6310dcc4a321af55398d1171ac0b26c17368c2f68303804e7463b8265baf527d30a60a4b2b41e2b8391a24f5e5c9409666ee0cb34fc46585abf2a2c8035b8ccfa57abcd96cfc15a8074e429fa150be06cf933cc92b49a1aef526e17616a104017b6f0ff5252ff1c5b99f659e3b44bd532a3cf961ead4c057e833184ac6ba3aa494f69855fae5103a06a5f88a2ed4e8db4ed0321d9c02ef0a98bbb71c534bd31fca573b3d8224dd70da2b07653a44f3be51c51c70de33b812baafd4e051, encryptedEndpoint http://172.15.0.4:8030/api/services/encrypt\n",
      "INFO:ocean_lib.data_provider.data_encryptor:Asset urls encrypted successfully, encrypted urls str: 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, encryptedEndpoint http://172.15.0.4:8030/api/services/encrypt\n"
     ]
    },
    {
     "name": "stdout",
     "output_type": "stream",
     "text": [
      "DATA_asset did = 'did:op:0640a540d598548315b3c66b6464ca694907c4ef73fdb0507986dbee4bb40f52'\n"
     ]
    }
   ],
   "source": [
    "# Publish the datatoken\n",
    "DATA_datatoken = data_nft.create_datatoken(\"DATA 1\", \"D1\", from_wallet=alice_wallet)\n",
    "print(f\"DATA_datatoken address = '{DATA_datatoken.address}'\")\n",
    "\n",
    "# Specify metadata and services, using the Branin test dataset\n",
    "DATA_date_created = \"2021-12-28T10:55:11Z\"\n",
    "DATA_metadata = {\n",
    "    \"created\": DATA_date_created,\n",
    "    \"updated\": DATA_date_created,\n",
    "    \"description\": \"Branin dataset\",\n",
    "    \"name\": \"Branin dataset\",\n",
    "    \"type\": \"dataset\",\n",
    "    \"author\": \"Trent\",\n",
    "    \"license\": \"CC0: PublicDomain\",\n",
    "}\n",
    "\n",
    "# ocean.py offers multiple file types, but a simple url file should be enough for this example\n",
    "from ocean_lib.structures.file_objects import UrlFile\n",
    "DATA_url_file = UrlFile(\n",
    "    url=\"https://raw.githubusercontent.com/oceanprotocol/c2d-examples/main/branin_and_gpr/branin.arff\"\n",
    ")\n",
    "\n",
    "DATA_files = [DATA_url_file]\n",
    "\n",
    "# Set the compute values for compute service\n",
    "DATA_compute_values = {\n",
    "    \"allowRawAlgorithm\": False,\n",
    "    \"allowNetworkAccess\": True,\n",
    "    \"publisherTrustedAlgorithms\": [],\n",
    "    \"publisherTrustedAlgorithmPublishers\": [],\n",
    "}\n",
    "\n",
    "# Create the Service\n",
    "from ocean_lib.services.service import Service\n",
    "DATA_compute_service = Service(\n",
    "    service_id=\"2\",\n",
    "    service_type=\"compute\",\n",
    "    service_endpoint=ocean.config.provider_url,\n",
    "    datatoken=DATA_datatoken.address,\n",
    "    files=DATA_files,\n",
    "    timeout=3600,\n",
    "    compute_values=DATA_compute_values,\n",
    ")\n",
    "\n",
    "# Publish asset with compute service on-chain.\n",
    "DATA_asset = ocean.assets.create(\n",
    "    metadata=DATA_metadata,\n",
    "    publisher_wallet=alice_wallet,\n",
    "    files=DATA_files,\n",
    "    services=[DATA_compute_service],\n",
    "    data_nft_address=data_nft.address,\n",
    "    deployed_datatokens=[DATA_datatoken],\n",
    ")\n",
    "\n",
    "print(f\"DATA_asset did = '{DATA_asset.did}'\")"
   ]
  },
  {
   "cell_type": "code",
   "execution_count": 5,
   "id": "c61f8377-c59d-48dc-8367-02c284b6ed8c",
   "metadata": {},
   "outputs": [
    {
     "name": "stdout",
     "output_type": "stream",
     "text": [
      "ALGO_nft_token address = '0x4BdE0b170FAd51cBb917311e5f9b0e272c8b9729'\n",
      "ALGO_datatoken address = '0xa2a9f0e34273b120024Db67CEd6ea10D2B229f1D'\n"
     ]
    },
    {
     "name": "stderr",
     "output_type": "stream",
     "text": [
      "INFO:ocean_lib.data_provider.data_encryptor:Asset urls encrypted successfully, encrypted urls str: 0x04c6ed5f9b9afd2e46ccad06f221c4dc3a0bbd1712ac8f3d2c1bb3d26ffe3b19f2e8d1741fb923e914a694f5932c7b17b5786311f381a3b8fbb43871efd56d93a16ce3d5210ed1a4333eb9214544a1e2c264ca4043b5194e5d2cdc2857440569076b9ea459498fa73c9ce873af32ff26aab07e657a282c8073b5271a75d7f96d28a7c916f5421324c4a9bf183775296a2ddcbfccc07e2a8838cf5b37f70e4953f4dcf0fef0b67ce552ed18c32baab38430662d7c129842d0e6bbc8702d314afb1c7a1f06b1bbbf31dc1f2c6ef70448020fcdb22a67a82f7a20ae52523dc4317138e8d45bc7b3443c8ba6d91b336b61da9db6c56ae2096e9b0d4431d7e968a9ecb851378562e707dceeb7c7599f1c4efa6eefef439bfb5f4bf43464a3e551debda4235a8aa293d659fab328c9d82f215837ac7370bb1ae33c5b083cd70e6439c25046493788822d822c1636a1a74d5b0b2def9c4e89, encryptedEndpoint http://172.15.0.4:8030/api/services/encrypt\n",
      "INFO:ocean_lib.data_provider.data_encryptor:Asset urls encrypted successfully, encrypted urls str: 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, encryptedEndpoint http://172.15.0.4:8030/api/services/encrypt\n"
     ]
    },
    {
     "name": "stdout",
     "output_type": "stream",
     "text": [
      "ALGO_asset did = 'did:op:14d4befb49c19b93465c60a614632db7624e38645dd92042f54c30db41bebf04'\n"
     ]
    }
   ],
   "source": [
    "# Publish the algorithm NFT token\n",
    "ALGO_nft_token = ocean.create_data_nft(\"NFTToken1\", \"NFT1\", alice_wallet)\n",
    "print(f\"ALGO_nft_token address = '{ALGO_nft_token.address}'\")\n",
    "\n",
    "# Publish the datatoken\n",
    "ALGO_datatoken = ALGO_nft_token.create_datatoken(\"ALGO 1\", \"A1\", from_wallet=alice_wallet)\n",
    "print(f\"ALGO_datatoken address = '{ALGO_datatoken.address}'\")\n",
    "\n",
    "# Specify metadata and services, using the Branin test dataset\n",
    "ALGO_date_created = \"2021-12-28T10:55:11Z\"\n",
    "\n",
    "ALGO_metadata = {\n",
    "    \"created\": ALGO_date_created,\n",
    "    \"updated\": ALGO_date_created,\n",
    "    \"description\": \"gpr\",\n",
    "    \"name\": \"gpr\",\n",
    "    \"type\": \"algorithm\",\n",
    "    \"author\": \"Trent\",\n",
    "    \"license\": \"CC0: PublicDomain\",\n",
    "    \"algorithm\": {\n",
    "        \"language\": \"python\",\n",
    "        \"format\": \"docker-image\",\n",
    "        \"version\": \"0.1\",\n",
    "        \"container\": {\n",
    "            \"entrypoint\": \"python $ALGO\",\n",
    "            \"image\": \"oceanprotocol/algo_dockers\",\n",
    "            \"tag\": \"python-branin\",\n",
    "            \"checksum\": \"sha256:8221d20c1c16491d7d56b9657ea09082c0ee4a8ab1a6621fa720da58b09580e4\",\n",
    "        },\n",
    "    }\n",
    "}\n",
    "\n",
    "# ocean.py offers multiple file types, but a simple url file should be enough for this example\n",
    "from ocean_lib.structures.file_objects import UrlFile\n",
    "ALGO_url_file = UrlFile(\n",
    "    url=\"https://raw.githubusercontent.com/oceanprotocol/c2d-examples/main/branin_and_gpr/gpr.py\"\n",
    ")\n",
    "\n",
    "ALGO_files = [ALGO_url_file]\n",
    "\n",
    "# Publish asset with compute service on-chain.\n",
    "# The download (access service) is automatically created, but you can explore other options as well\n",
    "ALGO_asset = ocean.assets.create(\n",
    "    metadata=ALGO_metadata,\n",
    "    publisher_wallet=alice_wallet,\n",
    "    files=ALGO_files,\n",
    "    data_nft_address=ALGO_nft_token.address,\n",
    "    deployed_datatokens=[ALGO_datatoken],\n",
    ")\n",
    "\n",
    "print(f\"ALGO_asset did = '{ALGO_asset.did}'\")"
   ]
  },
  {
   "cell_type": "code",
   "execution_count": 6,
   "id": "147345ec-d822-4c49-a5f6-3d8cd14dab09",
   "metadata": {},
   "outputs": [
    {
     "name": "stderr",
     "output_type": "stream",
     "text": [
      "INFO:ocean_lib.data_provider.fileinfo_provider:Retrieved asset files successfully FileInfoEndpoint http://172.15.0.4:8030/api/services/fileinfo from did did:op:14d4befb49c19b93465c60a614632db7624e38645dd92042f54c30db41bebf04 with service id 0\n",
      "INFO:ocean_lib.data_provider.data_encryptor:Asset urls encrypted successfully, encrypted urls str: 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, encryptedEndpoint http://172.15.0.4:8030/api/services/encrypt\n"
     ]
    }
   ],
   "source": [
    "compute_service = DATA_asset.services[0]\n",
    "compute_service.add_publisher_trusted_algorithm(ALGO_asset)\n",
    "DATA_asset = ocean.assets.update(DATA_asset, alice_wallet)"
   ]
  },
  {
   "cell_type": "code",
   "execution_count": 7,
   "id": "2e10c5c1-7a32-4067-97bc-25c98e9c2718",
   "metadata": {},
   "outputs": [
    {
     "name": "stdout",
     "output_type": "stream",
     "text": [
      "bob_wallet.address = '0x529043886F21D9bc1AE0feDb751e34265a246e47'\n"
     ]
    },
    {
     "data": {
      "text/plain": [
       "'0x461e7837d3539ef2f89f70a9db2e17c9a25a6f39199e8a31968a7f0135ae5500'"
      ]
     },
     "execution_count": 7,
     "metadata": {},
     "output_type": "execute_result"
    }
   ],
   "source": [
    "bob_wallet = Wallet(\n",
    "    ocean.web3,\n",
    "    os.getenv(\"TEST_PRIVATE_KEY2\"),\n",
    "    config.block_confirmations,\n",
    "    config.transaction_timeout,\n",
    ")\n",
    "print(f\"bob_wallet.address = '{bob_wallet.address}'\")\n",
    "\n",
    "# Alice mints DATA datatokens and ALGO datatokens to Bob.\n",
    "# Alternatively, Bob might have bought these in a market.\n",
    "DATA_datatoken.mint(bob_wallet.address, ocean.to_wei(5), alice_wallet)\n",
    "ALGO_datatoken.mint(bob_wallet.address, ocean.to_wei(5), alice_wallet)"
   ]
  },
  {
   "cell_type": "code",
   "execution_count": 11,
   "id": "46eb0733-002e-440e-82e9-6bef021b6d06",
   "metadata": {},
   "outputs": [
    {
     "name": "stderr",
     "output_type": "stream",
     "text": [
      "INFO:ocean_lib.data_provider.data_service_provider:Service initialized successfully initializeComputeEndpoint http://172.15.0.4:8030/api/services/initializeCompute\n",
      "INFO:ocean_lib.data_provider.data_service_provider:invoke start compute endpoint with this url: {'dataset': {'documentId': 'did:op:0640a540d598548315b3c66b6464ca694907c4ef73fdb0507986dbee4bb40f52', 'serviceId': '2', 'transferTxId': '0x3b2e9c0ad9ee49b2bd063bd9f3ffb9340aa6ad61bb2d146f5017ee5ebf2f2a5a'}, 'environment': 'ocean-compute', 'algorithm': {'documentId': 'did:op:14d4befb49c19b93465c60a614632db7624e38645dd92042f54c30db41bebf04', 'serviceId': '0', 'transferTxId': '0x7ef25df8e2dcffd47ac3773199337e6dcc76744e73fa9446689acbe66fcf0428'}, 'signature': '0xee2722b562b3d930aaf1ab351d19905a37eb7023b371a72cf7256ababdbae1946cf5147e8181b07877f4a2ac8c5e51ef26ad98c16f95b44d12ae7dc0a26cc9e01c', 'nonce': '1661811245.964734', 'consumerAddress': '0x529043886F21D9bc1AE0feDb751e34265a246e47', 'additionalInputs': []}\n"
     ]
    },
    {
     "name": "stdout",
     "output_type": "stream",
     "text": [
      "signing message with nonce 1661811245.964734: 0x529043886F21D9bc1AE0feDb751e34265a246e47did:op:0640a540d598548315b3c66b6464ca694907c4ef73fdb0507986dbee4bb40f52, account=0x529043886F21D9bc1AE0feDb751e34265a246e47\n",
      "Started compute job with id: e52fc2d125fc4fb19837712cf5ee3217\n"
     ]
    }
   ],
   "source": [
    "# Convenience variables\n",
    "DATA_did = DATA_asset.did\n",
    "ALGO_did = ALGO_asset.did\n",
    "\n",
    "# Operate on updated and indexed assets\n",
    "DATA_asset = ocean.assets.resolve(DATA_did)\n",
    "ALGO_asset = ocean.assets.resolve(ALGO_did)\n",
    "\n",
    "compute_service = DATA_asset.services[0]\n",
    "algo_service = ALGO_asset.services[0]\n",
    "free_c2d_env = ocean.compute.get_free_c2d_environment(compute_service.service_endpoint)\n",
    "\n",
    "from datetime import datetime, timedelta\n",
    "from ocean_lib.models.compute_input import ComputeInput\n",
    "\n",
    "DATA_compute_input = ComputeInput(DATA_asset, compute_service)\n",
    "ALGO_compute_input = ComputeInput(ALGO_asset, algo_service)\n",
    "\n",
    "# Pay for dataset and algo for 1 day\n",
    "datasets, algorithm = ocean.assets.pay_for_compute_service(\n",
    "    datasets=[DATA_compute_input],\n",
    "    algorithm_data=ALGO_compute_input,\n",
    "    consume_market_order_fee_address=bob_wallet.address,\n",
    "    wallet=bob_wallet,\n",
    "    compute_environment=free_c2d_env[\"id\"],\n",
    "    valid_until=int((datetime.utcnow() + timedelta(days=1)).timestamp()),\n",
    "    consumer_address=free_c2d_env[\"consumerAddress\"],\n",
    ")\n",
    "assert datasets, \"pay for dataset unsuccessful\"\n",
    "assert algorithm, \"pay for algorithm unsuccessful\"\n",
    "\n",
    "# Start compute job\n",
    "job_id = ocean.compute.start(\n",
    "    consumer_wallet=bob_wallet,\n",
    "    dataset=datasets[0],\n",
    "    compute_environment=free_c2d_env[\"id\"],\n",
    "    algorithm=algorithm,\n",
    ")\n",
    "print(f\"Started compute job with id: {job_id}\")"
   ]
  },
  {
   "cell_type": "code",
   "execution_count": 13,
   "id": "b207835c-84f0-400b-819c-c0e634c79f25",
   "metadata": {},
   "outputs": [
    {
     "name": "stderr",
     "output_type": "stream",
     "text": [
      "INFO:ocean_lib.data_provider.data_service_provider:invoke compute endpoint with this url: http://172.15.0.4:8030/api/services/compute?consumerAddress=0x529043886F21D9bc1AE0feDb751e34265a246e47&documentId=did%3Aop%3A0640a540d598548315b3c66b6464ca694907c4ef73fdb0507986dbee4bb40f52&jobId=e52fc2d125fc4fb19837712cf5ee3217&nonce=1661811272.766202&signature=0xb10a493b83f49b40ca0e71d61255098e2da3ee2a8fd6980b61e7b6f23487e8fd52bb9ff04e598c7c3e9c049e95161a54838494ea14c510623f8e5ce9bbb27e351c\n"
     ]
    },
    {
     "name": "stdout",
     "output_type": "stream",
     "text": [
      "signing message with nonce 1661811272.766202: 0x529043886F21D9bc1AE0feDb751e34265a246e47e52fc2d125fc4fb19837712cf5ee3217did:op:0640a540d598548315b3c66b6464ca694907c4ef73fdb0507986dbee4bb40f52, account=0x529043886F21D9bc1AE0feDb751e34265a246e47\n"
     ]
    }
   ],
   "source": [
    "# Wait until job is done\n",
    "import time\n",
    "from decimal import Decimal\n",
    "succeeded = False\n",
    "for _ in range(0, 200):\n",
    "    status = ocean.compute.status(DATA_asset, compute_service, job_id, bob_wallet)\n",
    "    if status.get(\"dateFinished\") and Decimal(status[\"dateFinished\"]) > 0:\n",
    "        succeeded = True\n",
    "        break\n",
    "    time.sleep(5)"
   ]
  },
  {
   "cell_type": "code",
   "execution_count": null,
   "id": "43517297-b02d-465a-aab3-28a1f63f9382",
   "metadata": {},
   "outputs": [],
   "source": []
  }
 ],
 "metadata": {
  "kernelspec": {
   "display_name": "Python 3 (ipykernel)",
   "language": "python",
   "name": "python3"
  },
  "language_info": {
   "codemirror_mode": {
    "name": "ipython",
    "version": 3
   },
   "file_extension": ".py",
   "mimetype": "text/x-python",
   "name": "python",
   "nbconvert_exporter": "python",
   "pygments_lexer": "ipython3",
   "version": "3.8.13"
  }
 },
 "nbformat": 4,
 "nbformat_minor": 5
}
