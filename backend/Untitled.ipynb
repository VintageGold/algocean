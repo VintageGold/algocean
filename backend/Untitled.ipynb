{
 "cells": [
  {
   "cell_type": "code",
   "execution_count": 1,
   "id": "da7ad93f-a03b-4150-a30c-53bcde16311c",
   "metadata": {},
   "outputs": [
    {
     "name": "stdout",
     "output_type": "stream",
     "text": [
      "Created data NFT. Its address is 0x5db818503760c5640D86236D09547DdB64910295\n"
     ]
    }
   ],
   "source": [
    "# Create Ocean instance\n",
    "from ocean_lib.example_config import ExampleConfig\n",
    "from ocean_lib.ocean.ocean import Ocean\n",
    "config = ExampleConfig.get_config()\n",
    "ocean = Ocean(config)\n",
    "\n",
    "# Create Alice's wallet\n",
    "import os\n",
    "from ocean_lib.web3_internal.wallet import Wallet\n",
    "alice_private_key = os.getenv('TEST_PRIVATE_KEY1')\n",
    "alice_wallet = Wallet(ocean.web3, alice_private_key, config.block_confirmations, config.transaction_timeout)\n",
    "\n",
    "# Publish an NFT token\n",
    "data_nft = ocean.create_data_nft('NFTToken1', 'NFT1', alice_wallet)\n",
    "print(f\"Created data NFT. Its address is {data_nft.address}\")"
   ]
  },
  {
   "cell_type": "code",
   "execution_count": 2,
   "id": "4f263328-bd94-477e-8341-c064b963ea05",
   "metadata": {},
   "outputs": [
    {
     "name": "stdout",
     "output_type": "stream",
     "text": [
      "Created datatoken. Its address is 0x0710F6B294e925274fFf94185a4C899e84f303f2\n"
     ]
    }
   ],
   "source": [
    "# Create datatoken related to the above NFT.\n",
    "\n",
    "datatoken = data_nft.create_datatoken(\"Datatoken 1\", \"DT1\", from_wallet=alice_wallet)\n",
    "print(f\"Created datatoken. Its address is {datatoken.address}\")"
   ]
  },
  {
   "cell_type": "code",
   "execution_count": 3,
   "id": "f0b6fab2-e66a-4641-b6cc-807e384952e0",
   "metadata": {},
   "outputs": [
    {
     "name": "stdout",
     "output_type": "stream",
     "text": [
      "config.network_url = 'http://172.15.0.3:8545'\n",
      "config.block_confirmations = 0\n",
      "config.metadata_cache_uri = 'http://172.15.0.5:5000'\n",
      "config.provider_url = 'http://172.15.0.4:8030'\n",
      "alice_wallet.address = '0x02354A1F160A3fd7ac8b02ee91F04104440B28E7'\n",
      "data NFT token name: NFTToken1\n",
      "data NFT symbol: NFT1\n",
      "datatoken name: Datatoken 1\n",
      "datatoken symbol: DT1\n"
     ]
    }
   ],
   "source": [
    "# config\n",
    "print(f\"config.network_url = '{config.network_url}'\")\n",
    "print(f\"config.block_confirmations = {config.block_confirmations.value}\")\n",
    "print(f\"config.metadata_cache_uri = '{config.metadata_cache_uri}'\")\n",
    "print(f\"config.provider_url = '{config.provider_url}'\")\n",
    "\n",
    "# wallet\n",
    "print(f\"alice_wallet.address = '{alice_wallet.address}'\")\n",
    "\n",
    "# data NFT\n",
    "print(f\"data NFT token name: {data_nft.token_name()}\")\n",
    "print(f\"data NFT symbol: {data_nft.symbol()}\")\n",
    "\n",
    "# datatoken\n",
    "print(f\"datatoken name: {datatoken.token_name()}\")\n",
    "print(f\"datatoken symbol: {datatoken.symbol()}\")"
   ]
  },
  {
   "cell_type": "code",
   "execution_count": 4,
   "id": "b569c383-a1f8-4187-9cc4-310ac8d5935f",
   "metadata": {},
   "outputs": [
    {
     "name": "stdout",
     "output_type": "stream",
     "text": [
      "DATA_datatoken address = '0xC1423cE6Eb79a7e145933e38af3a0D6256726eFe'\n"
     ]
    },
    {
     "name": "stderr",
     "output_type": "stream",
     "text": [
      "INFO:ocean_lib.data_provider.data_encryptor:Asset urls encrypted successfully, encrypted urls str: 0x04c71a23e50a94e6f0732ac6c849e9560bc26cc279b814d5282dd8370726d8d25b586f39ec44e148f587e387d2b4fe17e9dfafaeebf67640ae9981c0b4dd42090a51f1b1c7adda45167132c6728a482b8072e76949b66609ce83fd0f2625114c58d0e7bda57e544c6300ff7e61d4c0f5de7f8c3bb901a81d2ce2038ad2623c870ce4598e807c3e9391f89f043dfe68d937ee961b6999d7d4367e7dd21522ba1877a1811c64d2289329f824657c8478eb089a759f84dcbf3c29abf3e5cdc811a40e87f533e0c00abc695e74e1c5a80ea7c1ad4b70c235d72582be7a519fce3231a3d731345c7a40a80c4dc5967ffb2065805630cb2d97ebd56fad1a9babdd6cea84a0f9c290ca1725fd23496a6826c76d2bebbbc7410f4adad1d6f6513d97a1fe325a20f0760577f68cc2961f4ae7b664a4efd5e741fa9c52501874f63a62201f78c8ffb2c4a39bc5f87c445e81a6f04053a81c5781ef261a46b1, encryptedEndpoint http://172.15.0.4:8030/api/services/encrypt\n",
      "INFO:ocean_lib.data_provider.data_encryptor:Asset urls encrypted successfully, encrypted urls str: 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, encryptedEndpoint http://172.15.0.4:8030/api/services/encrypt\n"
     ]
    },
    {
     "name": "stdout",
     "output_type": "stream",
     "text": [
      "DATA_asset did = 'did:op:60bad4695da60c22898bf9b45f361abd37cfde27200b103bc805eac997db4034'\n"
     ]
    }
   ],
   "source": [
    "# Publish the datatoken\n",
    "DATA_datatoken = data_nft.create_datatoken(\"DATA 1\", \"D1\", from_wallet=alice_wallet)\n",
    "print(f\"DATA_datatoken address = '{DATA_datatoken.address}'\")\n",
    "\n",
    "# Specify metadata and services, using the Branin test dataset\n",
    "DATA_date_created = \"2021-12-28T10:55:11Z\"\n",
    "DATA_metadata = {\n",
    "    \"created\": DATA_date_created,\n",
    "    \"updated\": DATA_date_created,\n",
    "    \"description\": \"Branin dataset\",\n",
    "    \"name\": \"Branin dataset\",\n",
    "    \"type\": \"dataset\",\n",
    "    \"author\": \"Trent\",\n",
    "    \"license\": \"CC0: PublicDomain\",\n",
    "}\n",
    "\n",
    "# ocean.py offers multiple file types, but a simple url file should be enough for this example\n",
    "from ocean_lib.structures.file_objects import UrlFile\n",
    "DATA_url_file = UrlFile(\n",
    "    url=\"https://raw.githubusercontent.com/oceanprotocol/c2d-examples/main/branin_and_gpr/branin.arff\"\n",
    ")\n",
    "\n",
    "DATA_files = [DATA_url_file]\n",
    "\n",
    "# Set the compute values for compute service\n",
    "DATA_compute_values = {\n",
    "    \"allowRawAlgorithm\": False,\n",
    "    \"allowNetworkAccess\": True,\n",
    "    \"publisherTrustedAlgorithms\": [],\n",
    "    \"publisherTrustedAlgorithmPublishers\": [],\n",
    "}\n",
    "\n",
    "# Create the Service\n",
    "from ocean_lib.services.service import Service\n",
    "DATA_compute_service = Service(\n",
    "    service_id=\"2\",\n",
    "    service_type=\"compute\",\n",
    "    service_endpoint=ocean.config.provider_url,\n",
    "    datatoken=DATA_datatoken.address,\n",
    "    files=DATA_files,\n",
    "    timeout=3600,\n",
    "    compute_values=DATA_compute_values,\n",
    ")\n",
    "\n",
    "# Publish asset with compute service on-chain.\n",
    "DATA_asset = ocean.assets.create(\n",
    "    metadata=DATA_metadata,\n",
    "    publisher_wallet=alice_wallet,\n",
    "    files=DATA_files,\n",
    "    services=[DATA_compute_service],\n",
    "    data_nft_address=data_nft.address,\n",
    "    deployed_datatokens=[DATA_datatoken],\n",
    ")\n",
    "\n",
    "print(f\"DATA_asset did = '{DATA_asset.did}'\")"
   ]
  },
  {
   "cell_type": "code",
   "execution_count": 5,
   "id": "c61f8377-c59d-48dc-8367-02c284b6ed8c",
   "metadata": {},
   "outputs": [
    {
     "name": "stdout",
     "output_type": "stream",
     "text": [
      "ALGO_nft_token address = '0xE0927a292D668b78998ce11f6d96e46dF7ed2B5f'\n"
     ]
    },
    {
     "name": "stderr",
     "output_type": "stream",
     "text": [
      "INFO:ocean_lib.data_provider.data_encryptor:Asset urls encrypted successfully, encrypted urls str: 0x04e0231625ba5eaab5e7f4875f311723689901f00bdef05f6e3ee88ee7b4ccd34eb6e89ed77df7bc59c58e76264878259c158f6aa18885610aa1ec6262ac8bb187cc186776f851ed5277455d60140bb1fc0311f3830189e0f41562cd9cade345f4dcccf73e5eb1d4ad55fbfb3a80d0edda4d92c48fd6aabe9d5e070e68c354c9b37322e68b5ef3dde01b6d30ad6a8cbdeaaef47059c6187e7147369c004baa0bb4e6abb03185ec6714fe48a47b7e260bb99b5b5a6774bd270da013043d13aefbf01a78435bf1b1f916308358da3ef6824669d57496eafef3aee88a383099cb96c0e993b9fcf4d41f2a30c5ebf1be7dd6689eefad34130a20b8dc9182cee6d0982ea66f04dc988577b5a0794db9271335b3964cc3abc69ab8b91b52bd9e780af8f5b9074400804bf829c55068edcdd5f8ed13c73853d5b4dae824c9415256f3ab1268170c5a91540b95d014277c4a3d6675afa64e65, encryptedEndpoint http://172.15.0.4:8030/api/services/encrypt\n",
      "INFO:ocean_lib.data_provider.data_encryptor:Asset urls encrypted successfully, encrypted urls str: 0x0476d40d61bb78259e8310c59efa5719ac6bcad35e8adc6ed45a010c9c0d02ecbea3ea9d476c269d62e7f5bbd14d94f928cee1f11402cdd22d8f2d93c2f8d343ddc5e20fa8cf330bd3752da9643cb3ae518fc39270e708d0328d963252ba82970718c6e338b687ba6fb8e7a89502ad7c40006cc89cb9adfe5252c3d9bce47037c75081c4c3cf1bebccedeb51a542d189c3ed76f62157aff6fc8e3bbe6ffdd83a1b2cad159215001dea6b92caf3e16e19a4f40a6f683cc4461c0e99c9e1c046aac5360f916cd8b399054d295d37cc2f36ee13d98e1d53f67e556fb86277d4ef1847df8f8ede12f8d120ef6451fb0b02f05aedee975329ae7255ec9d81c36611273aab2c90045a20d98cbe0ae7c738a0401983639d47606a0c279e5e4383abafae8860da6e2287dd9f6431d246de3725c6d8edb5eea2d5a69bef515ec47b00e33181e1de3c334581e78368b77c4d6eb97bf759bbd58b3cee86ecf2f69ccb9aaa2b57ee1ec152e7ed3de924737a50684e57633474d81340eb3cbebfa840f10c07cab301bbd821783ed6592b97312f159c3bdd2b564ee42d99a1f064d912b2c475cc37156cea76254a72d27f50c60190b4fa260e94351a2966ca43f8d26d65823e9cc359033c2849f3b29f13f0c15764cef35fb5a89c70ba367721bb1e5d0f8ea2efc7af6028e32fbafa1ed424285b3351b1867dedacc1e2a2c8067c3bf9186b740d95d455195dada05a25fa3233d2a756c48eccc5f602e86f4b10679bb13b3b23de72d1f368419b1ae88f1bfc68eea8354054ee07243e000cf0085bf8549d77c298eb5ab13d025cb1342bcbdbb34b543830902755ed43eeb9995a9c0794b86985236dca39b3b46b2b9eb64183942c620c33672419391d9294b2e57c3ad3569512f32980951e759ffe29b01f84f15c7ab75bbfca0b8e16b37a3fca93e37d71645173bf118efb70e889a05d84c6fdea22bfcebe4db09f30a01920663a684eb24469b8d609e87042393a3e997e2ef1a007717c51467cd8a169f644cab80764f834ae5f0950c3f7abc96bff4a63254203b3280ecaaec1d30669231876a8c1c3689b1d4f1efc87e73921b89f3f68cb6bac2b2d2221289e21d15aece6066178acb850083cc89f1447ceec00306a8cac0aa3b3e6e6417d9755e8525618ee0a1acee4b4e4d5fd67f6c179d8d1cb93ade7c43d7b22743a409dea408bcb9dc8e8da19695262cedc0de06f987f905ffb0b6114e09228124c1aafebe92a415d28b436fda2142fafd517856a7b2144300b2e3acb06fd9b98b1d0bf3da7eac2d3fdd341170dc135b107afba064fc7a3dbe4d40323c894cbc5f46a2ac50f27885851c5808ee36ce145d9cb090e094830bf8861455aba1cbcbd066ebd8be54e4b1fd20e261fd602cfa628064672311472ac139168b759028e496af8e15b48dd2cf7439ec33fd9f907491259a9d2bf9008c1ba23ee8f2eff35c77ad3596010bc6455548b1ae4cf8d9cd648a32ad9c2903054d79c04c3e60e11d1d598c5b4434cf485f4fbf66006eb65a5085f5a3a2412a1dcbfacf5f0b479e3c239c5b5c4e95269f6cc5f0f69ea2aa733e0bafa36c7c6135ebf1e9429c8eacaca8e23bcd25dec9ba2c90a01cb07ec76afe91274e65c9c202238dec5a86e29ce981c06273613, encryptedEndpoint http://172.15.0.4:8030/api/services/encrypt\n"
     ]
    },
    {
     "name": "stdout",
     "output_type": "stream",
     "text": [
      "ALGO_datatoken address = '0xEFCCE904343091F0a4399560B9FDE60f0c6999eE'\n",
      "ALGO_asset did = 'did:op:2f0c7f33ffa8f55d4a7e30d93fc6e27a0bf5ca8d0dd6f15d4739791668d1eacd'\n"
     ]
    }
   ],
   "source": [
    "# Publish the algorithm NFT token\n",
    "ALGO_nft_token = ocean.create_data_nft(\"NFTToken1\", \"NFT1\", alice_wallet)\n",
    "print(f\"ALGO_nft_token address = '{ALGO_nft_token.address}'\")\n",
    "\n",
    "# Publish the datatoken\n",
    "ALGO_datatoken = ALGO_nft_token.create_datatoken(\"ALGO 1\", \"A1\", from_wallet=alice_wallet)\n",
    "print(f\"ALGO_datatoken address = '{ALGO_datatoken.address}'\")\n",
    "\n",
    "# Specify metadata and services, using the Branin test dataset\n",
    "ALGO_date_created = \"2021-12-28T10:55:11Z\"\n",
    "\n",
    "ALGO_metadata = {\n",
    "    \"created\": ALGO_date_created,\n",
    "    \"updated\": ALGO_date_created,\n",
    "    \"description\": \"gpr\",\n",
    "    \"name\": \"gpr\",\n",
    "    \"type\": \"algorithm\",\n",
    "    \"author\": \"Trent\",\n",
    "    \"license\": \"CC0: PublicDomain\",\n",
    "    \"algorithm\": {\n",
    "        \"language\": \"python\",\n",
    "        \"format\": \"docker-image\",\n",
    "        \"version\": \"0.1\",\n",
    "        \"container\": {\n",
    "            \"entrypoint\": \"python $ALGO\",\n",
    "            \"image\": \"oceanprotocol/algo_dockers\",\n",
    "            \"tag\": \"python-branin\",\n",
    "            \"checksum\": \"sha256:8221d20c1c16491d7d56b9657ea09082c0ee4a8ab1a6621fa720da58b09580e4\",\n",
    "        },\n",
    "    }\n",
    "}\n",
    "\n",
    "# ocean.py offers multiple file types, but a simple url file should be enough for this example\n",
    "from ocean_lib.structures.file_objects import UrlFile\n",
    "ALGO_url_file = UrlFile(\n",
    "    url=\"https://raw.githubusercontent.com/oceanprotocol/c2d-examples/main/branin_and_gpr/gpr.py\"\n",
    ")\n",
    "\n",
    "ALGO_files = [ALGO_url_file]\n",
    "\n",
    "# Publish asset with compute service on-chain.\n",
    "# The download (access service) is automatically created, but you can explore other options as well\n",
    "ALGO_asset = ocean.assets.create(\n",
    "    metadata=ALGO_metadata,\n",
    "    publisher_wallet=alice_wallet,\n",
    "    files=ALGO_files,\n",
    "    data_nft_address=ALGO_nft_token.address,\n",
    "    deployed_datatokens=[ALGO_datatoken],\n",
    ")\n",
    "\n",
    "print(f\"ALGO_asset did = '{ALGO_asset.did}'\")"
   ]
  },
  {
   "cell_type": "code",
   "execution_count": 6,
   "id": "147345ec-d822-4c49-a5f6-3d8cd14dab09",
   "metadata": {},
   "outputs": [
    {
     "name": "stderr",
     "output_type": "stream",
     "text": [
      "INFO:ocean_lib.data_provider.fileinfo_provider:Retrieved asset files successfully FileInfoEndpoint http://172.15.0.4:8030/api/services/fileinfo from did did:op:2f0c7f33ffa8f55d4a7e30d93fc6e27a0bf5ca8d0dd6f15d4739791668d1eacd with service id 0\n",
      "INFO:ocean_lib.data_provider.data_encryptor:Asset urls encrypted successfully, encrypted urls str: 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, encryptedEndpoint http://172.15.0.4:8030/api/services/encrypt\n"
     ]
    }
   ],
   "source": [
    "compute_service = DATA_asset.services[0]\n",
    "compute_service.add_publisher_trusted_algorithm(ALGO_asset)\n",
    "DATA_asset = ocean.assets.update(DATA_asset, alice_wallet)"
   ]
  },
  {
   "cell_type": "code",
   "execution_count": 7,
   "id": "2e10c5c1-7a32-4067-97bc-25c98e9c2718",
   "metadata": {},
   "outputs": [
    {
     "name": "stdout",
     "output_type": "stream",
     "text": [
      "bob_wallet.address = '0x529043886F21D9bc1AE0feDb751e34265a246e47'\n"
     ]
    },
    {
     "data": {
      "text/plain": [
       "'0x9b8656da1bbdd2e36ddfee5424555471c7f6765c6d4ea8bdf99e04a075be6ac7'"
      ]
     },
     "execution_count": 7,
     "metadata": {},
     "output_type": "execute_result"
    }
   ],
   "source": [
    "bob_wallet = Wallet(\n",
    "    ocean.web3,\n",
    "    os.getenv(\"TEST_PRIVATE_KEY2\"),\n",
    "    config.block_confirmations,\n",
    "    config.transaction_timeout,\n",
    ")\n",
    "print(f\"bob_wallet.address = '{bob_wallet.address}'\")\n",
    "\n",
    "# Alice mints DATA datatokens and ALGO datatokens to Bob.\n",
    "# Alternatively, Bob might have bought these in a market.\n",
    "DATA_datatoken.mint(bob_wallet.address, ocean.to_wei(5), alice_wallet)\n",
    "ALGO_datatoken.mint(bob_wallet.address, ocean.to_wei(5), alice_wallet)"
   ]
  },
  {
   "cell_type": "code",
   "execution_count": 8,
   "id": "46eb0733-002e-440e-82e9-6bef021b6d06",
   "metadata": {},
   "outputs": [
    {
     "name": "stderr",
     "output_type": "stream",
     "text": [
      "INFO:ocean_lib.data_provider.data_service_provider:Service initialized successfully initializeComputeEndpoint http://172.15.0.4:8030/api/services/initializeCompute\n",
      "INFO:ocean_lib.data_provider.data_service_provider:invoke start compute endpoint with this url: {'environment': 'ocean-compute', 'algorithm': {'documentId': 'did:op:2f0c7f33ffa8f55d4a7e30d93fc6e27a0bf5ca8d0dd6f15d4739791668d1eacd', 'serviceId': '0', 'transferTxId': '0xabb6c952689a45335d08213c421fef81d5163cd250ffba0efb133e3448ccdc26'}, 'dataset': {'documentId': 'did:op:60bad4695da60c22898bf9b45f361abd37cfde27200b103bc805eac997db4034', 'serviceId': '2', 'transferTxId': '0x7182624aa78988f5688c3326f7766f5fb7786436c129390a2550b1a0dc31d28d'}, 'signature': '0x8d66aa64a7ef45647f591b6b3185bdf063b291e1a6b08598321f46a8f26a39ec0cbac49bff7439346832b7ac30c900ab7cd33061bf4730fbe113fec84695a82f1c', 'nonce': '1662477374.664614', 'consumerAddress': '0x529043886F21D9bc1AE0feDb751e34265a246e47', 'additionalInputs': []}\n"
     ]
    },
    {
     "name": "stdout",
     "output_type": "stream",
     "text": [
      "signing message with nonce 1662477374.664614: 0x529043886F21D9bc1AE0feDb751e34265a246e47did:op:2f0c7f33ffa8f55d4a7e30d93fc6e27a0bf5ca8d0dd6f15d4739791668d1eacd, account=0x529043886F21D9bc1AE0feDb751e34265a246e47\n",
      "Started compute job with id: 5eb3ebef9e5d41cdb40ecd81789f2548\n"
     ]
    }
   ],
   "source": [
    "# Convenience variables\n",
    "DATA_did = DATA_asset.did\n",
    "ALGO_did = ALGO_asset.did\n",
    "\n",
    "# Operate on updated and indexed assets\n",
    "DATA_asset = ocean.assets.resolve(DATA_did)\n",
    "ALGO_asset = ocean.assets.resolve(ALGO_did)\n",
    "\n",
    "compute_service = DATA_asset.services[0]\n",
    "algo_service = ALGO_asset.services[0]\n",
    "free_c2d_env = ocean.compute.get_free_c2d_environment(compute_service.service_endpoint)\n",
    "\n",
    "from datetime import datetime, timedelta\n",
    "from ocean_lib.models.compute_input import ComputeInput\n",
    "\n",
    "DATA_compute_input = ComputeInput(DATA_asset, compute_service)\n",
    "ALGO_compute_input = ComputeInput(ALGO_asset, algo_service)\n",
    "\n",
    "# Pay for dataset and algo for 1 day\n",
    "datasets, algorithm = ocean.assets.pay_for_compute_service(\n",
    "    datasets=[DATA_compute_input],\n",
    "    algorithm_data=ALGO_compute_input,\n",
    "    consume_market_order_fee_address=bob_wallet.address,\n",
    "    wallet=bob_wallet,\n",
    "    compute_environment=free_c2d_env[\"id\"],\n",
    "    valid_until=int((datetime.utcnow() + timedelta(days=1)).timestamp()),\n",
    "    consumer_address=free_c2d_env[\"consumerAddress\"],\n",
    ")\n",
    "assert datasets, \"pay for dataset unsuccessful\"\n",
    "assert algorithm, \"pay for algorithm unsuccessful\"\n",
    "\n",
    "# Start compute job\n",
    "job_id = ocean.compute.start(\n",
    "    consumer_wallet=bob_wallet,\n",
    "    dataset=datasets[0],\n",
    "    compute_environment=free_c2d_env[\"id\"],\n",
    "    algorithm=algorithm,\n",
    ")\n",
    "print(f\"Started compute job with id: {job_id}\")"
   ]
  },
  {
   "cell_type": "code",
   "execution_count": 9,
   "id": "e023f171-e9ae-4559-83c6-6857d524606b",
   "metadata": {},
   "outputs": [
    {
     "name": "stderr",
     "output_type": "stream",
     "text": [
      "INFO:ocean_lib.data_provider.data_service_provider:invoke compute endpoint with this url: http://172.15.0.4:8030/api/services/compute?consumerAddress=0x529043886F21D9bc1AE0feDb751e34265a246e47&documentId=did%3Aop%3A60bad4695da60c22898bf9b45f361abd37cfde27200b103bc805eac997db4034&jobId=5eb3ebef9e5d41cdb40ecd81789f2548&nonce=1662477382.5442&signature=0xc03acf7df697a0c541251bcf97c39a5d59cf5ef0595e6c956a3782ea2f70657c0b0fa0b5b5fccc5f1be8dbbf98e2c093352f41878938fae94f0ffa154d25e3811c\n",
      "INFO:ocean_lib.data_provider.data_service_provider:invoke compute endpoint with this url: http://172.15.0.4:8030/api/services/compute?consumerAddress=0x529043886F21D9bc1AE0feDb751e34265a246e47&documentId=did%3Aop%3A60bad4695da60c22898bf9b45f361abd37cfde27200b103bc805eac997db4034&jobId=5eb3ebef9e5d41cdb40ecd81789f2548&nonce=1662477382.600638&signature=0x1c2fe673fd2e74346420529d87b34f0fb8739211ed34e10b6492f4b775793ccb35d497ed22b175071887866fc259f5a62f24e820dc9a362712205edfa06d1f621c\n"
     ]
    },
    {
     "name": "stdout",
     "output_type": "stream",
     "text": [
      "signing message with nonce 1662477382.5442: 0x529043886F21D9bc1AE0feDb751e34265a246e475eb3ebef9e5d41cdb40ecd81789f2548did:op:60bad4695da60c22898bf9b45f361abd37cfde27200b103bc805eac997db4034, account=0x529043886F21D9bc1AE0feDb751e34265a246e47\n",
      "signing message with nonce 1662477382.600638: 0x529043886F21D9bc1AE0feDb751e34265a246e475eb3ebef9e5d41cdb40ecd81789f2548did:op:60bad4695da60c22898bf9b45f361abd37cfde27200b103bc805eac997db4034, account=0x529043886F21D9bc1AE0feDb751e34265a246e47\n"
     ]
    },
    {
     "ename": "IndexError",
     "evalue": "list index out of range",
     "output_type": "error",
     "traceback": [
      "\u001b[0;31m---------------------------------------------------------------------------\u001b[0m",
      "\u001b[0;31mIndexError\u001b[0m                                Traceback (most recent call last)",
      "Input \u001b[0;32mIn [9]\u001b[0m, in \u001b[0;36m<cell line: 3>\u001b[0;34m()\u001b[0m\n\u001b[1;32m      1\u001b[0m ocean\u001b[38;5;241m.\u001b[39mcompute\u001b[38;5;241m.\u001b[39mstatus(DATA_asset, compute_service, job_id, bob_wallet)\n\u001b[1;32m      2\u001b[0m \u001b[38;5;66;03m# Retrieve algorithm output and log files\u001b[39;00m\n\u001b[0;32m----> 3\u001b[0m output \u001b[38;5;241m=\u001b[39m \u001b[43mocean\u001b[49m\u001b[38;5;241;43m.\u001b[39;49m\u001b[43mcompute\u001b[49m\u001b[38;5;241;43m.\u001b[39;49m\u001b[43mcompute_job_result_logs\u001b[49m\u001b[43m(\u001b[49m\n\u001b[1;32m      4\u001b[0m \u001b[43m    \u001b[49m\u001b[43mDATA_asset\u001b[49m\u001b[43m,\u001b[49m\u001b[43m \u001b[49m\u001b[43mcompute_service\u001b[49m\u001b[43m,\u001b[49m\u001b[43m \u001b[49m\u001b[43mjob_id\u001b[49m\u001b[43m,\u001b[49m\u001b[43m \u001b[49m\u001b[43mbob_wallet\u001b[49m\n\u001b[1;32m      5\u001b[0m \u001b[43m)\u001b[49m\u001b[43m[\u001b[49m\u001b[38;5;241;43m0\u001b[39;49m\u001b[43m]\u001b[49m\n\u001b[1;32m      7\u001b[0m \u001b[38;5;28;01mimport\u001b[39;00m \u001b[38;5;21;01mpickle\u001b[39;00m\n\u001b[1;32m      8\u001b[0m model \u001b[38;5;241m=\u001b[39m pickle\u001b[38;5;241m.\u001b[39mloads(output)  \u001b[38;5;66;03m# the gaussian model result\u001b[39;00m\n",
      "\u001b[0;31mIndexError\u001b[0m: list index out of range"
     ]
    }
   ],
   "source": [
    "ocean.compute.status(DATA_asset, compute_service, job_id, bob_wallet)\n",
    "# Retrieve algorithm output and log files\n",
    "output = ocean.compute.compute_job_result_logs(\n",
    "    DATA_asset, compute_service, job_id, bob_wallet\n",
    ")[0]\n",
    "\n",
    "import pickle\n",
    "model = pickle.loads(output)  # the gaussian model result\n",
    "assert len(model) > 0, \"unpickle result unsuccessful\""
   ]
  },
  {
   "cell_type": "code",
   "execution_count": null,
   "id": "b207835c-84f0-400b-819c-c0e634c79f25",
   "metadata": {},
   "outputs": [],
   "source": [
    "# Wait until job is done\n",
    "import time\n",
    "from decimal import Decimal\n",
    "succeeded = False\n",
    "for _ in range(0, 200):\n",
    "    status = ocean.compute.status(DATA_asset, compute_service, job_id, bob_wallet)\n",
    "    if status.get(\"dateFinished\") and Decimal(status[\"dateFinished\"]) > 0:\n",
    "        succeeded = True\n",
    "        break\n",
    "    time.sleep(5)"
   ]
  },
  {
   "cell_type": "code",
   "execution_count": null,
   "id": "43517297-b02d-465a-aab3-28a1f63f9382",
   "metadata": {},
   "outputs": [],
   "source": []
  },
  {
   "cell_type": "code",
   "execution_count": null,
   "id": "8ed5f107-3316-440e-86d7-4baf42f19d11",
   "metadata": {},
   "outputs": [],
   "source": []
  },
  {
   "cell_type": "code",
   "execution_count": null,
   "id": "31005f70-46eb-4e11-9df4-f0cc2a15c502",
   "metadata": {},
   "outputs": [],
   "source": []
  },
  {
   "cell_type": "code",
   "execution_count": null,
   "id": "11cfbc13-cc5c-49e6-8b4e-b65b33fed9d6",
   "metadata": {},
   "outputs": [],
   "source": []
  },
  {
   "cell_type": "code",
   "execution_count": null,
   "id": "248a1a36-5b7e-4e14-ad21-630d8565c6c2",
   "metadata": {},
   "outputs": [],
   "source": []
  }
 ],
 "metadata": {
  "kernelspec": {
   "display_name": "Python 3 (ipykernel)",
   "language": "python",
   "name": "python3"
  },
  "language_info": {
   "codemirror_mode": {
    "name": "ipython",
    "version": 3
   },
   "file_extension": ".py",
   "mimetype": "text/x-python",
   "name": "python",
   "nbconvert_exporter": "python",
   "pygments_lexer": "ipython3",
   "version": "3.8.5"
  }
 },
 "nbformat": 4,
 "nbformat_minor": 5
}
