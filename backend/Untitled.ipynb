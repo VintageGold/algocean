{
 "cells": [
  {
   "cell_type": "code",
   "execution_count": 9,
   "id": "da7ad93f-a03b-4150-a30c-53bcde16311c",
   "metadata": {},
   "outputs": [
    {
     "name": "stdout",
     "output_type": "stream",
     "text": [
      "Created data NFT. Its address is 0x5DF012AE8762B8045D79ad7cB1462c902Dee5bd0\n"
     ]
    }
   ],
   "source": [
    "# Create Ocean instance\n",
    "from ocean_lib.example_config import ExampleConfig\n",
    "from ocean_lib.ocean.ocean import Ocean\n",
    "config = ExampleConfig.get_config()\n",
    "ocean = Ocean(config)\n",
    "\n",
    "# Create Alice's wallet\n",
    "import os\n",
    "from ocean_lib.web3_internal.wallet import Wallet\n",
    "alice_private_key = os.getenv('TEST_PRIVATE_KEY1')\n",
    "alice_wallet = Wallet(ocean.web3, alice_private_key, config.block_confirmations, config.transaction_timeout)\n",
    "\n",
    "# Publish an NFT token\n",
    "data_nft = ocean.create_data_nft('NFTToken1', 'NFT1', alice_wallet)\n",
    "print(f\"Created data NFT. Its address is {data_nft.address}\")"
   ]
  },
  {
   "cell_type": "code",
   "execution_count": 10,
   "id": "4f263328-bd94-477e-8341-c064b963ea05",
   "metadata": {},
   "outputs": [
    {
     "name": "stdout",
     "output_type": "stream",
     "text": [
      "Created datatoken. Its address is 0x6DAa6Ca6941901c25713127814a1905B8BaA8682\n"
     ]
    }
   ],
   "source": [
    "# Create datatoken related to the above NFT.\n",
    "\n",
    "datatoken = data_nft.create_datatoken(\"Datatoken 1\", \"DT1\", from_wallet=alice_wallet)\n",
    "print(f\"Created datatoken. Its address is {datatoken.address}\")"
   ]
  },
  {
   "cell_type": "code",
   "execution_count": 11,
   "id": "f0b6fab2-e66a-4641-b6cc-807e384952e0",
   "metadata": {},
   "outputs": [
    {
     "name": "stdout",
     "output_type": "stream",
     "text": [
      "config.network_url = 'http://172.15.0.3:8545'\n",
      "config.block_confirmations = 0\n",
      "config.metadata_cache_uri = 'http://172.15.0.5:5000'\n",
      "config.provider_url = 'http://172.15.0.4:8030'\n",
      "alice_wallet.address = '0x02354A1F160A3fd7ac8b02ee91F04104440B28E7'\n",
      "data NFT token name: NFTToken1\n",
      "data NFT symbol: NFT1\n",
      "datatoken name: Datatoken 1\n",
      "datatoken symbol: DT1\n"
     ]
    }
   ],
   "source": [
    "# config\n",
    "print(f\"config.network_url = '{config.network_url}'\")\n",
    "print(f\"config.block_confirmations = {config.block_confirmations.value}\")\n",
    "print(f\"config.metadata_cache_uri = '{config.metadata_cache_uri}'\")\n",
    "print(f\"config.provider_url = '{config.provider_url}'\")\n",
    "\n",
    "# wallet\n",
    "print(f\"alice_wallet.address = '{alice_wallet.address}'\")\n",
    "\n",
    "# data NFT\n",
    "print(f\"data NFT token name: {data_nft.token_name()}\")\n",
    "print(f\"data NFT symbol: {data_nft.symbol()}\")\n",
    "\n",
    "# datatoken\n",
    "print(f\"datatoken name: {datatoken.token_name()}\")\n",
    "print(f\"datatoken symbol: {datatoken.symbol()}\")"
   ]
  },
  {
   "cell_type": "code",
   "execution_count": 12,
   "id": "b569c383-a1f8-4187-9cc4-310ac8d5935f",
   "metadata": {},
   "outputs": [
    {
     "name": "stdout",
     "output_type": "stream",
     "text": [
      "DATA_datatoken address = '0xa155ac0D01CAa71CDbB3760C0Ff2031e61990899'\n"
     ]
    },
    {
     "name": "stderr",
     "output_type": "stream",
     "text": [
      "INFO:ocean_lib.data_provider.data_encryptor:Asset urls encrypted successfully, encrypted urls str: 0x0432866b00485f85dc43fd8363a899b3efdd0e93dd2275bfbe332e4384127c388f7c4350fd9e54c454934f0536c067788e5573446082632fd6885af057eac441b6035a25ea16399dbfe2e034d19a22825f853b087bd7b73306aac778781a9fac27ecd0b1f9c563ac8298bab3d0b57dfbc731a0f172d9b8b4a4ef6603265ef0d05bafb3c0c56e92a85f14936a194bc85552d788df1ed731f56fa51485e255084de4b8201fa2381f3e266998ecee3dfe48128de2a9e88ba64783422095f4d35d965586ed544664dc8f0e348dd36c717de745fdb2b4e5a44ae439ba1133e20dd8aef68009bd2adb9c680bd4b051c8c911d0152e437739c05c6e48cc6196bd880b665119593085e51a5d1950f802445069279636e974c683fad44f8427ac4936d2771b39af2e6e718bcaaa7c214f330929233583e33b650d77316b35ff043f8016b4517c79bfbaa68387b59736cf1aac56aa5c7aa8eafbc13f33e2f0, encryptedEndpoint http://172.15.0.4:8030/api/services/encrypt\n",
      "INFO:ocean_lib.data_provider.data_encryptor:Asset urls encrypted successfully, encrypted urls str: 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, encryptedEndpoint http://172.15.0.4:8030/api/services/encrypt\n"
     ]
    },
    {
     "name": "stdout",
     "output_type": "stream",
     "text": [
      "DATA_asset did = 'did:op:d31c55ac17031602e5479ada579de8a7e5567231e09f32a1d473fd181a687a2f'\n"
     ]
    }
   ],
   "source": [
    "# Publish the datatoken\n",
    "DATA_datatoken = data_nft.create_datatoken(\"DATA 1\", \"D1\", from_wallet=alice_wallet)\n",
    "print(f\"DATA_datatoken address = '{DATA_datatoken.address}'\")\n",
    "\n",
    "# Specify metadata and services, using the Branin test dataset\n",
    "DATA_date_created = \"2021-12-28T10:55:11Z\"\n",
    "DATA_metadata = {\n",
    "    \"created\": DATA_date_created,\n",
    "    \"updated\": DATA_date_created,\n",
    "    \"description\": \"Branin dataset\",\n",
    "    \"name\": \"Branin dataset\",\n",
    "    \"type\": \"dataset\",\n",
    "    \"author\": \"Trent\",\n",
    "    \"license\": \"CC0: PublicDomain\",\n",
    "}\n",
    "\n",
    "# ocean.py offers multiple file types, but a simple url file should be enough for this example\n",
    "from ocean_lib.structures.file_objects import UrlFile\n",
    "DATA_url_file = UrlFile(\n",
    "    url=\"https://raw.githubusercontent.com/oceanprotocol/c2d-examples/main/branin_and_gpr/branin.arff\"\n",
    ")\n",
    "\n",
    "DATA_files = [DATA_url_file]\n",
    "\n",
    "# Set the compute values for compute service\n",
    "DATA_compute_values = {\n",
    "    \"allowRawAlgorithm\": False,\n",
    "    \"allowNetworkAccess\": True,\n",
    "    \"publisherTrustedAlgorithms\": [],\n",
    "    \"publisherTrustedAlgorithmPublishers\": [],\n",
    "}\n",
    "\n",
    "# Create the Service\n",
    "from ocean_lib.services.service import Service\n",
    "DATA_compute_service = Service(\n",
    "    service_id=\"2\",\n",
    "    service_type=\"compute\",\n",
    "    service_endpoint=ocean.config.provider_url,\n",
    "    datatoken=DATA_datatoken.address,\n",
    "    files=DATA_files,\n",
    "    timeout=3600,\n",
    "    compute_values=DATA_compute_values,\n",
    ")\n",
    "\n",
    "# Publish asset with compute service on-chain.\n",
    "DATA_asset = ocean.assets.create(\n",
    "    metadata=DATA_metadata,\n",
    "    publisher_wallet=alice_wallet,\n",
    "    files=DATA_files,\n",
    "    services=[DATA_compute_service],\n",
    "    data_nft_address=data_nft.address,\n",
    "    deployed_datatokens=[DATA_datatoken],\n",
    ")\n",
    "\n",
    "print(f\"DATA_asset did = '{DATA_asset.did}'\")"
   ]
  },
  {
   "cell_type": "code",
   "execution_count": 13,
   "id": "c61f8377-c59d-48dc-8367-02c284b6ed8c",
   "metadata": {},
   "outputs": [
    {
     "name": "stdout",
     "output_type": "stream",
     "text": [
      "ALGO_nft_token address = '0x3b3C31712de9f641d9D926C192864b0737E1B3Ec'\n",
      "ALGO_datatoken address = '0x48878C6a90DE17E0A9352629bA388077dA3a3f55'\n"
     ]
    },
    {
     "name": "stderr",
     "output_type": "stream",
     "text": [
      "INFO:ocean_lib.data_provider.data_encryptor:Asset urls encrypted successfully, encrypted urls str: 0x0491da49c5117f6f035d0d3d70fe32a2260cd465e4d65a4ef46e1a6a5cb564058f611fe8319b92ac49804ebb18413cd5c5e2e0f841f0fb116a764172ef525830fe4611d421c8f8d7eb24925825707b920b180df3e1aefbd615310fe7939f0850350dbafb33fa681bd13503b6ea2c5e29ba137e5f7599037d2ae1780fdff5473c44fbce6dc91625269d7831f905fb14c7f3193c8970f323f5df46b3b470ec6194e2fe01301f8d606f5fa914bc853da3f976e6ab7028d3d80e651125e0b98fb9d3309023b978754c9a352d7c3bd16e6a4986a3e52c74f51280f3c7f65179690d40cc46c525e50d11a2804c74a6526fc8f3047d39f1d56f6f3a54ed078bbeb5fd763a64444317783bd29e92ef4f8d31a3b1b71a023f7f10eac0d1f6c25ebe589f5c59717c2059fc544171be305099ced24c2e08b4f6ccec748e7f1243e1b26d5c649730fb81cf24e3424038a966cae4ab90eadabf2384, encryptedEndpoint http://172.15.0.4:8030/api/services/encrypt\n",
      "INFO:ocean_lib.data_provider.data_encryptor:Asset urls encrypted successfully, encrypted urls str: 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, encryptedEndpoint http://172.15.0.4:8030/api/services/encrypt\n"
     ]
    },
    {
     "name": "stdout",
     "output_type": "stream",
     "text": [
      "ALGO_asset did = 'did:op:6d2e144043b43a20aec4250b116ed5f0c668c83acb56e0c05e062c38cd440e31'\n"
     ]
    }
   ],
   "source": [
    "# Publish the algorithm NFT token\n",
    "ALGO_nft_token = ocean.create_data_nft(\"NFTToken1\", \"NFT1\", alice_wallet)\n",
    "print(f\"ALGO_nft_token address = '{ALGO_nft_token.address}'\")\n",
    "\n",
    "# Publish the datatoken\n",
    "ALGO_datatoken = ALGO_nft_token.create_datatoken(\"ALGO 1\", \"A1\", from_wallet=alice_wallet)\n",
    "print(f\"ALGO_datatoken address = '{ALGO_datatoken.address}'\")\n",
    "\n",
    "# Specify metadata and services, using the Branin test dataset\n",
    "ALGO_date_created = \"2021-12-28T10:55:11Z\"\n",
    "\n",
    "ALGO_metadata = {\n",
    "    \"created\": ALGO_date_created,\n",
    "    \"updated\": ALGO_date_created,\n",
    "    \"description\": \"gpr\",\n",
    "    \"name\": \"gpr\",\n",
    "    \"type\": \"algorithm\",\n",
    "    \"author\": \"Trent\",\n",
    "    \"license\": \"CC0: PublicDomain\",\n",
    "    \"algorithm\": {\n",
    "        \"language\": \"python\",\n",
    "        \"format\": \"docker-image\",\n",
    "        \"version\": \"0.1\",\n",
    "        \"container\": {\n",
    "            \"entrypoint\": \"python $ALGO\",\n",
    "            \"image\": \"oceanprotocol/algo_dockers\",\n",
    "            \"tag\": \"python-branin\",\n",
    "            \"checksum\": \"sha256:8221d20c1c16491d7d56b9657ea09082c0ee4a8ab1a6621fa720da58b09580e4\",\n",
    "        },\n",
    "    }\n",
    "}\n",
    "\n",
    "# ocean.py offers multiple file types, but a simple url file should be enough for this example\n",
    "from ocean_lib.structures.file_objects import UrlFile\n",
    "ALGO_url_file = UrlFile(\n",
    "    url=\"https://raw.githubusercontent.com/oceanprotocol/c2d-examples/main/branin_and_gpr/gpr.py\"\n",
    ")\n",
    "\n",
    "ALGO_files = [ALGO_url_file]\n",
    "\n",
    "# Publish asset with compute service on-chain.\n",
    "# The download (access service) is automatically created, but you can explore other options as well\n",
    "ALGO_asset = ocean.assets.create(\n",
    "    metadata=ALGO_metadata,\n",
    "    publisher_wallet=alice_wallet,\n",
    "    files=ALGO_files,\n",
    "    data_nft_address=ALGO_nft_token.address,\n",
    "    deployed_datatokens=[ALGO_datatoken],\n",
    ")\n",
    "\n",
    "print(f\"ALGO_asset did = '{ALGO_asset.did}'\")"
   ]
  },
  {
   "cell_type": "code",
   "execution_count": 14,
   "id": "147345ec-d822-4c49-a5f6-3d8cd14dab09",
   "metadata": {},
   "outputs": [
    {
     "name": "stderr",
     "output_type": "stream",
     "text": [
      "INFO:ocean_lib.data_provider.fileinfo_provider:Retrieved asset files successfully FileInfoEndpoint http://172.15.0.4:8030/api/services/fileinfo from did did:op:6d2e144043b43a20aec4250b116ed5f0c668c83acb56e0c05e062c38cd440e31 with service id 0\n",
      "INFO:ocean_lib.data_provider.data_encryptor:Asset urls encrypted successfully, encrypted urls str: 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, encryptedEndpoint http://172.15.0.4:8030/api/services/encrypt\n"
     ]
    }
   ],
   "source": [
    "compute_service = DATA_asset.services[0]\n",
    "compute_service.add_publisher_trusted_algorithm(ALGO_asset)\n",
    "DATA_asset = ocean.assets.update(DATA_asset, alice_wallet)"
   ]
  },
  {
   "cell_type": "code",
   "execution_count": 15,
   "id": "2e10c5c1-7a32-4067-97bc-25c98e9c2718",
   "metadata": {},
   "outputs": [
    {
     "name": "stdout",
     "output_type": "stream",
     "text": [
      "bob_wallet.address = '0x529043886F21D9bc1AE0feDb751e34265a246e47'\n"
     ]
    },
    {
     "data": {
      "text/plain": [
       "'0x095c5cea3ea5bcb46bcff8987ad8218a3844197f0e15ca357f1ddae2cb512b01'"
      ]
     },
     "execution_count": 15,
     "metadata": {},
     "output_type": "execute_result"
    }
   ],
   "source": [
    "bob_wallet = Wallet(\n",
    "    ocean.web3,\n",
    "    os.getenv(\"TEST_PRIVATE_KEY2\"),\n",
    "    config.block_confirmations,\n",
    "    config.transaction_timeout,\n",
    ")\n",
    "print(f\"bob_wallet.address = '{bob_wallet.address}'\")\n",
    "\n",
    "# Alice mints DATA datatokens and ALGO datatokens to Bob.\n",
    "# Alternatively, Bob might have bought these in a market.\n",
    "DATA_datatoken.mint(bob_wallet.address, ocean.to_wei(5), alice_wallet)\n",
    "ALGO_datatoken.mint(bob_wallet.address, ocean.to_wei(5), alice_wallet)"
   ]
  },
  {
   "cell_type": "code",
   "execution_count": 16,
   "id": "46eb0733-002e-440e-82e9-6bef021b6d06",
   "metadata": {},
   "outputs": [
    {
     "name": "stderr",
     "output_type": "stream",
     "text": [
      "INFO:ocean_lib.data_provider.data_service_provider:Service initialized successfully initializeComputeEndpoint http://172.15.0.4:8030/api/services/initializeCompute\n",
      "INFO:ocean_lib.data_provider.data_service_provider:invoke start compute endpoint with this url: {'dataset': {'documentId': 'did:op:d31c55ac17031602e5479ada579de8a7e5567231e09f32a1d473fd181a687a2f', 'serviceId': '2', 'transferTxId': '0x6a7c2bf8526b38b30e46540e25fa39bf1dcb71434de03289bd34ca54de6fd867'}, 'environment': 'ocean-compute', 'algorithm': {'documentId': 'did:op:6d2e144043b43a20aec4250b116ed5f0c668c83acb56e0c05e062c38cd440e31', 'serviceId': '0', 'transferTxId': '0x2b63afb7a2dd136ca57b4f0faf175983894235384e5fcc80aefd36ec9912d96d'}, 'signature': '0x15d183faf906cc12d55f8b5b562833c993a3078757667f0123e38da750d04e842e8394a42f4a16d100b6ec61ef8ba0f79d929441a5fcf3333bddd463dcf7fa1b1b', 'nonce': '1661978546.671133', 'consumerAddress': '0x529043886F21D9bc1AE0feDb751e34265a246e47', 'additionalInputs': []}\n"
     ]
    },
    {
     "name": "stdout",
     "output_type": "stream",
     "text": [
      "signing message with nonce 1661978546.671133: 0x529043886F21D9bc1AE0feDb751e34265a246e47did:op:d31c55ac17031602e5479ada579de8a7e5567231e09f32a1d473fd181a687a2f, account=0x529043886F21D9bc1AE0feDb751e34265a246e47\n",
      "Started compute job with id: 4e7ae74a1d5240a189575e7f13ac1ce2\n"
     ]
    }
   ],
   "source": [
    "# Convenience variables\n",
    "DATA_did = DATA_asset.did\n",
    "ALGO_did = ALGO_asset.did\n",
    "\n",
    "# Operate on updated and indexed assets\n",
    "DATA_asset = ocean.assets.resolve(DATA_did)\n",
    "ALGO_asset = ocean.assets.resolve(ALGO_did)\n",
    "\n",
    "compute_service = DATA_asset.services[0]\n",
    "algo_service = ALGO_asset.services[0]\n",
    "free_c2d_env = ocean.compute.get_free_c2d_environment(compute_service.service_endpoint)\n",
    "\n",
    "from datetime import datetime, timedelta\n",
    "from ocean_lib.models.compute_input import ComputeInput\n",
    "\n",
    "DATA_compute_input = ComputeInput(DATA_asset, compute_service)\n",
    "ALGO_compute_input = ComputeInput(ALGO_asset, algo_service)\n",
    "\n",
    "# Pay for dataset and algo for 1 day\n",
    "datasets, algorithm = ocean.assets.pay_for_compute_service(\n",
    "    datasets=[DATA_compute_input],\n",
    "    algorithm_data=ALGO_compute_input,\n",
    "    consume_market_order_fee_address=bob_wallet.address,\n",
    "    wallet=bob_wallet,\n",
    "    compute_environment=free_c2d_env[\"id\"],\n",
    "    valid_until=int((datetime.utcnow() + timedelta(days=1)).timestamp()),\n",
    "    consumer_address=free_c2d_env[\"consumerAddress\"],\n",
    ")\n",
    "assert datasets, \"pay for dataset unsuccessful\"\n",
    "assert algorithm, \"pay for algorithm unsuccessful\"\n",
    "\n",
    "# Start compute job\n",
    "job_id = ocean.compute.start(\n",
    "    consumer_wallet=bob_wallet,\n",
    "    dataset=datasets[0],\n",
    "    compute_environment=free_c2d_env[\"id\"],\n",
    "    algorithm=algorithm,\n",
    ")\n",
    "print(f\"Started compute job with id: {job_id}\")"
   ]
  },
  {
   "cell_type": "code",
   "execution_count": 23,
   "id": "e023f171-e9ae-4559-83c6-6857d524606b",
   "metadata": {},
   "outputs": [
    {
     "name": "stderr",
     "output_type": "stream",
     "text": [
      "INFO:ocean_lib.data_provider.data_service_provider:invoke compute endpoint with this url: http://172.15.0.4:8030/api/services/compute?consumerAddress=0x529043886F21D9bc1AE0feDb751e34265a246e47&documentId=did%3Aop%3Ad31c55ac17031602e5479ada579de8a7e5567231e09f32a1d473fd181a687a2f&jobId=4e7ae74a1d5240a189575e7f13ac1ce2&nonce=1661979184.11182&signature=0x63b93e283ee3fb12cfe866a9c35aa78dee0f56e33b66a26b4ba9c60dd0c142c2533d27313146c95a269021984a2070cf47ccc3afe5ae3042d0d6c5ea1f7eb38e1c\n",
      "INFO:ocean_lib.data_provider.data_service_provider:invoke compute endpoint with this url: http://172.15.0.4:8030/api/services/compute?consumerAddress=0x529043886F21D9bc1AE0feDb751e34265a246e47&documentId=did%3Aop%3Ad31c55ac17031602e5479ada579de8a7e5567231e09f32a1d473fd181a687a2f&jobId=4e7ae74a1d5240a189575e7f13ac1ce2&nonce=1661979184.157825&signature=0xf32031c53ba96cc707a4aa7c97ffe321788d4b31dab2970fa28057e5b7dbf0110257fea59fcf5da96a73d4cc6ecc42cdb425af07d0b07685794a6453395116721b\n",
      "INFO:ocean_lib.data_provider.data_service_provider:invoke the computeResult endpoint with this url: http://172.15.0.4:8030/api/services/computeResult?signature=0x38b53090872e239ae4581427cbbd2ddebd91222eff4ad224eeef670d00c4abf65cbdb80058727f636109fe88df66f6f019adf8ed4523a53824eaec8cd43d9e3e1c&nonce=1661979184.198615&jobId=4e7ae74a1d5240a189575e7f13ac1ce2&index=0&consumerAddress=0x529043886F21D9bc1AE0feDb751e34265a246e47\n"
     ]
    },
    {
     "name": "stdout",
     "output_type": "stream",
     "text": [
      "signing message with nonce 1661979184.11182: 0x529043886F21D9bc1AE0feDb751e34265a246e474e7ae74a1d5240a189575e7f13ac1ce2did:op:d31c55ac17031602e5479ada579de8a7e5567231e09f32a1d473fd181a687a2f, account=0x529043886F21D9bc1AE0feDb751e34265a246e47\n",
      "signing message with nonce 1661979184.157825: 0x529043886F21D9bc1AE0feDb751e34265a246e474e7ae74a1d5240a189575e7f13ac1ce2did:op:d31c55ac17031602e5479ada579de8a7e5567231e09f32a1d473fd181a687a2f, account=0x529043886F21D9bc1AE0feDb751e34265a246e47\n",
      "signing message with nonce 1661979184.198615: 0x529043886F21D9bc1AE0feDb751e34265a246e474e7ae74a1d5240a189575e7f13ac1ce20, account=0x529043886F21D9bc1AE0feDb751e34265a246e47\n"
     ]
    },
    {
     "ename": "DataProviderException",
     "evalue": "Failed to get a response for request: jobResultEndpoint=http://172.15.0.4:8030/api/services/computeResult, payload={'signature': '0x38b53090872e239ae4581427cbbd2ddebd91222eff4ad224eeef670d00c4abf65cbdb80058727f636109fe88df66f6f019adf8ed4523a53824eaec8cd43d9e3e1c', 'nonce': '1661979184.198615', 'jobId': '4e7ae74a1d5240a189575e7f13ac1ce2', 'index': 0, 'consumerAddress': '0x529043886F21D9bc1AE0feDb751e34265a246e47'}, response is <Response [404]>",
     "output_type": "error",
     "traceback": [
      "\u001b[0;31m---------------------------------------------------------------------------\u001b[0m",
      "\u001b[0;31mDataProviderException\u001b[0m                     Traceback (most recent call last)",
      "Input \u001b[0;32mIn [23]\u001b[0m, in \u001b[0;36m<cell line: 3>\u001b[0;34m()\u001b[0m\n\u001b[1;32m      1\u001b[0m ocean\u001b[38;5;241m.\u001b[39mcompute\u001b[38;5;241m.\u001b[39mstatus(DATA_asset, compute_service, job_id, bob_wallet)\n\u001b[1;32m      2\u001b[0m \u001b[38;5;66;03m# Retrieve algorithm output and log files\u001b[39;00m\n\u001b[0;32m----> 3\u001b[0m output \u001b[38;5;241m=\u001b[39m \u001b[43mocean\u001b[49m\u001b[38;5;241;43m.\u001b[39;49m\u001b[43mcompute\u001b[49m\u001b[38;5;241;43m.\u001b[39;49m\u001b[43mcompute_job_result_logs\u001b[49m\u001b[43m(\u001b[49m\n\u001b[1;32m      4\u001b[0m \u001b[43m    \u001b[49m\u001b[43mDATA_asset\u001b[49m\u001b[43m,\u001b[49m\u001b[43m \u001b[49m\u001b[43mcompute_service\u001b[49m\u001b[43m,\u001b[49m\u001b[43m \u001b[49m\u001b[43mjob_id\u001b[49m\u001b[43m,\u001b[49m\u001b[43m \u001b[49m\u001b[43mbob_wallet\u001b[49m\n\u001b[1;32m      5\u001b[0m \u001b[43m)\u001b[49m[\u001b[38;5;241m0\u001b[39m]\n\u001b[1;32m      7\u001b[0m \u001b[38;5;28;01mimport\u001b[39;00m \u001b[38;5;21;01mpickle\u001b[39;00m\n\u001b[1;32m      8\u001b[0m model \u001b[38;5;241m=\u001b[39m pickle\u001b[38;5;241m.\u001b[39mloads(output)  \u001b[38;5;66;03m# the gaussian model result\u001b[39;00m\n",
      "File \u001b[0;32m/usr/local/lib/python3.8/dist-packages/enforce_typing/decorator.py:29\u001b[0m, in \u001b[0;36menforce_types.<locals>.decorate.<locals>.wrapper\u001b[0;34m(*args, **kwargs)\u001b[0m\n\u001b[1;32m     26\u001b[0m \u001b[38;5;129m@wraps\u001b[39m(func)\n\u001b[1;32m     27\u001b[0m \u001b[38;5;28;01mdef\u001b[39;00m \u001b[38;5;21mwrapper\u001b[39m(\u001b[38;5;241m*\u001b[39margs, \u001b[38;5;241m*\u001b[39m\u001b[38;5;241m*\u001b[39mkwargs):\n\u001b[1;32m     28\u001b[0m     check_types(\u001b[38;5;241m*\u001b[39margs, \u001b[38;5;241m*\u001b[39m\u001b[38;5;241m*\u001b[39mkwargs)\n\u001b[0;32m---> 29\u001b[0m     \u001b[38;5;28;01mreturn\u001b[39;00m \u001b[43mfunc\u001b[49m\u001b[43m(\u001b[49m\u001b[38;5;241;43m*\u001b[39;49m\u001b[43margs\u001b[49m\u001b[43m,\u001b[49m\u001b[43m \u001b[49m\u001b[38;5;241;43m*\u001b[39;49m\u001b[38;5;241;43m*\u001b[39;49m\u001b[43mkwargs\u001b[49m\u001b[43m)\u001b[49m\n",
      "File \u001b[0;32m/app/ocean.py/ocean_lib/ocean/ocean_compute.py:134\u001b[0m, in \u001b[0;36mOceanCompute.compute_job_result_logs\u001b[0;34m(self, asset, service, job_id, wallet, log_type)\u001b[0m\n\u001b[1;32m    116\u001b[0m \u001b[38;5;129m@enforce_types\u001b[39m\n\u001b[1;32m    117\u001b[0m \u001b[38;5;28;01mdef\u001b[39;00m \u001b[38;5;21mcompute_job_result_logs\u001b[39m(\n\u001b[1;32m    118\u001b[0m     \u001b[38;5;28mself\u001b[39m,\n\u001b[0;32m   (...)\u001b[0m\n\u001b[1;32m    123\u001b[0m     log_type\u001b[38;5;241m=\u001b[39m\u001b[38;5;124m\"\u001b[39m\u001b[38;5;124moutput\u001b[39m\u001b[38;5;124m\"\u001b[39m,\n\u001b[1;32m    124\u001b[0m ) \u001b[38;5;241m-\u001b[39m\u001b[38;5;241m>\u001b[39m Dict[\u001b[38;5;28mstr\u001b[39m, Any]:\n\u001b[1;32m    125\u001b[0m     \u001b[38;5;124;03m\"\"\"\u001b[39;00m\n\u001b[1;32m    126\u001b[0m \u001b[38;5;124;03m    Gets job output if exists.\u001b[39;00m\n\u001b[1;32m    127\u001b[0m \n\u001b[0;32m   (...)\u001b[0m\n\u001b[1;32m    132\u001b[0m \u001b[38;5;124;03m    :return: dict the results/logs urls for an existing compute job, keys are (did, urls, logs)\u001b[39;00m\n\u001b[1;32m    133\u001b[0m \u001b[38;5;124;03m    \"\"\"\u001b[39;00m\n\u001b[0;32m--> 134\u001b[0m     result \u001b[38;5;241m=\u001b[39m \u001b[38;5;28;43mself\u001b[39;49m\u001b[38;5;241;43m.\u001b[39;49m\u001b[43m_data_provider\u001b[49m\u001b[38;5;241;43m.\u001b[39;49m\u001b[43mcompute_job_result_logs\u001b[49m\u001b[43m(\u001b[49m\n\u001b[1;32m    135\u001b[0m \u001b[43m        \u001b[49m\u001b[43masset\u001b[49m\u001b[43m,\u001b[49m\u001b[43m \u001b[49m\u001b[43mjob_id\u001b[49m\u001b[43m,\u001b[49m\u001b[43m \u001b[49m\u001b[43mservice\u001b[49m\u001b[43m,\u001b[49m\u001b[43m \u001b[49m\u001b[43mwallet\u001b[49m\u001b[43m,\u001b[49m\u001b[43m \u001b[49m\u001b[43mlog_type\u001b[49m\n\u001b[1;32m    136\u001b[0m \u001b[43m    \u001b[49m\u001b[43m)\u001b[49m\n\u001b[1;32m    138\u001b[0m     \u001b[38;5;28;01mreturn\u001b[39;00m result\n",
      "File \u001b[0;32m/usr/local/lib/python3.8/dist-packages/enforce_typing/decorator.py:29\u001b[0m, in \u001b[0;36menforce_types.<locals>.decorate.<locals>.wrapper\u001b[0;34m(*args, **kwargs)\u001b[0m\n\u001b[1;32m     26\u001b[0m \u001b[38;5;129m@wraps\u001b[39m(func)\n\u001b[1;32m     27\u001b[0m \u001b[38;5;28;01mdef\u001b[39;00m \u001b[38;5;21mwrapper\u001b[39m(\u001b[38;5;241m*\u001b[39margs, \u001b[38;5;241m*\u001b[39m\u001b[38;5;241m*\u001b[39mkwargs):\n\u001b[1;32m     28\u001b[0m     check_types(\u001b[38;5;241m*\u001b[39margs, \u001b[38;5;241m*\u001b[39m\u001b[38;5;241m*\u001b[39mkwargs)\n\u001b[0;32m---> 29\u001b[0m     \u001b[38;5;28;01mreturn\u001b[39;00m \u001b[43mfunc\u001b[49m\u001b[43m(\u001b[49m\u001b[38;5;241;43m*\u001b[39;49m\u001b[43margs\u001b[49m\u001b[43m,\u001b[49m\u001b[43m \u001b[49m\u001b[38;5;241;43m*\u001b[39;49m\u001b[38;5;241;43m*\u001b[39;49m\u001b[43mkwargs\u001b[49m\u001b[43m)\u001b[49m\n",
      "File \u001b[0;32m/app/ocean.py/ocean_lib/data_provider/data_service_provider.py:416\u001b[0m, in \u001b[0;36mDataServiceProvider.compute_job_result_logs\u001b[0;34m(asset, job_id, dataset_compute_service, consumer, log_type)\u001b[0m\n\u001b[1;32m    414\u001b[0m result \u001b[38;5;241m=\u001b[39m \u001b[38;5;28;01mNone\u001b[39;00m\n\u001b[1;32m    415\u001b[0m result_type \u001b[38;5;241m=\u001b[39m status[\u001b[38;5;124m\"\u001b[39m\u001b[38;5;124mresults\u001b[39m\u001b[38;5;124m\"\u001b[39m][i][\u001b[38;5;124m\"\u001b[39m\u001b[38;5;124mtype\u001b[39m\u001b[38;5;124m\"\u001b[39m]\n\u001b[0;32m--> 416\u001b[0m result \u001b[38;5;241m=\u001b[39m \u001b[43mDataServiceProvider\u001b[49m\u001b[38;5;241;43m.\u001b[39;49m\u001b[43mcompute_job_result\u001b[49m\u001b[43m(\u001b[49m\n\u001b[1;32m    417\u001b[0m \u001b[43m    \u001b[49m\u001b[43mjob_id\u001b[49m\u001b[43m,\u001b[49m\u001b[43m \u001b[49m\u001b[43mi\u001b[49m\u001b[43m,\u001b[49m\u001b[43m \u001b[49m\u001b[43mdataset_compute_service\u001b[49m\u001b[43m,\u001b[49m\u001b[43m \u001b[49m\u001b[43mconsumer\u001b[49m\n\u001b[1;32m    418\u001b[0m \u001b[43m\u001b[49m\u001b[43m)\u001b[49m\n\u001b[1;32m    419\u001b[0m \u001b[38;5;28;01massert\u001b[39;00m result, \u001b[38;5;124m\"\u001b[39m\u001b[38;5;124mresult retrieval unsuccessful\u001b[39m\u001b[38;5;124m\"\u001b[39m\n\u001b[1;32m    421\u001b[0m \u001b[38;5;66;03m# Extract algorithm output\u001b[39;00m\n",
      "File \u001b[0;32m/usr/local/lib/python3.8/dist-packages/enforce_typing/decorator.py:29\u001b[0m, in \u001b[0;36menforce_types.<locals>.decorate.<locals>.wrapper\u001b[0;34m(*args, **kwargs)\u001b[0m\n\u001b[1;32m     26\u001b[0m \u001b[38;5;129m@wraps\u001b[39m(func)\n\u001b[1;32m     27\u001b[0m \u001b[38;5;28;01mdef\u001b[39;00m \u001b[38;5;21mwrapper\u001b[39m(\u001b[38;5;241m*\u001b[39margs, \u001b[38;5;241m*\u001b[39m\u001b[38;5;241m*\u001b[39mkwargs):\n\u001b[1;32m     28\u001b[0m     check_types(\u001b[38;5;241m*\u001b[39margs, \u001b[38;5;241m*\u001b[39m\u001b[38;5;241m*\u001b[39mkwargs)\n\u001b[0;32m---> 29\u001b[0m     \u001b[38;5;28;01mreturn\u001b[39;00m \u001b[43mfunc\u001b[49m\u001b[43m(\u001b[49m\u001b[38;5;241;43m*\u001b[39;49m\u001b[43margs\u001b[49m\u001b[43m,\u001b[49m\u001b[43m \u001b[49m\u001b[38;5;241;43m*\u001b[39;49m\u001b[38;5;241;43m*\u001b[39;49m\u001b[43mkwargs\u001b[49m\u001b[43m)\u001b[49m\n",
      "File \u001b[0;32m/app/ocean.py/ocean_lib/data_provider/data_service_provider.py:386\u001b[0m, in \u001b[0;36mDataServiceProvider.compute_job_result\u001b[0;34m(job_id, index, dataset_compute_service, consumer)\u001b[0m\n\u001b[1;32m    381\u001b[0m logger\u001b[38;5;241m.\u001b[39minfo(\n\u001b[1;32m    382\u001b[0m     \u001b[38;5;124mf\u001b[39m\u001b[38;5;124m\"\u001b[39m\u001b[38;5;124minvoke the computeResult endpoint with this url: \u001b[39m\u001b[38;5;132;01m{\u001b[39;00mcompute_job_result_file_url\u001b[38;5;132;01m}\u001b[39;00m\u001b[38;5;124m\"\u001b[39m\n\u001b[1;32m    383\u001b[0m )\n\u001b[1;32m    384\u001b[0m response \u001b[38;5;241m=\u001b[39m DataServiceProvider\u001b[38;5;241m.\u001b[39m_http_method(\u001b[38;5;124m\"\u001b[39m\u001b[38;5;124mget\u001b[39m\u001b[38;5;124m\"\u001b[39m, compute_job_result_file_url)\n\u001b[0;32m--> 386\u001b[0m \u001b[43mDataServiceProviderBase\u001b[49m\u001b[38;5;241;43m.\u001b[39;49m\u001b[43mcheck_response\u001b[49m\u001b[43m(\u001b[49m\n\u001b[1;32m    387\u001b[0m \u001b[43m    \u001b[49m\u001b[43mresponse\u001b[49m\u001b[43m,\u001b[49m\u001b[43m \u001b[49m\u001b[38;5;124;43m\"\u001b[39;49m\u001b[38;5;124;43mjobResultEndpoint\u001b[39;49m\u001b[38;5;124;43m\"\u001b[39;49m\u001b[43m,\u001b[49m\u001b[43m \u001b[49m\u001b[43mcompute_job_result_endpoint\u001b[49m\u001b[43m,\u001b[49m\u001b[43m \u001b[49m\u001b[43mparams\u001b[49m\n\u001b[1;32m    388\u001b[0m \u001b[43m\u001b[49m\u001b[43m)\u001b[49m\n\u001b[1;32m    390\u001b[0m \u001b[38;5;28;01mreturn\u001b[39;00m response\u001b[38;5;241m.\u001b[39mcontent\n",
      "File \u001b[0;32m/usr/local/lib/python3.8/dist-packages/enforce_typing/decorator.py:29\u001b[0m, in \u001b[0;36menforce_types.<locals>.decorate.<locals>.wrapper\u001b[0;34m(*args, **kwargs)\u001b[0m\n\u001b[1;32m     26\u001b[0m \u001b[38;5;129m@wraps\u001b[39m(func)\n\u001b[1;32m     27\u001b[0m \u001b[38;5;28;01mdef\u001b[39;00m \u001b[38;5;21mwrapper\u001b[39m(\u001b[38;5;241m*\u001b[39margs, \u001b[38;5;241m*\u001b[39m\u001b[38;5;241m*\u001b[39mkwargs):\n\u001b[1;32m     28\u001b[0m     check_types(\u001b[38;5;241m*\u001b[39margs, \u001b[38;5;241m*\u001b[39m\u001b[38;5;241m*\u001b[39mkwargs)\n\u001b[0;32m---> 29\u001b[0m     \u001b[38;5;28;01mreturn\u001b[39;00m \u001b[43mfunc\u001b[49m\u001b[43m(\u001b[49m\u001b[38;5;241;43m*\u001b[39;49m\u001b[43margs\u001b[49m\u001b[43m,\u001b[49m\u001b[43m \u001b[49m\u001b[38;5;241;43m*\u001b[39;49m\u001b[38;5;241;43m*\u001b[39;49m\u001b[43mkwargs\u001b[49m\u001b[43m)\u001b[49m\n",
      "File \u001b[0;32m/app/ocean.py/ocean_lib/data_provider/base.py:307\u001b[0m, in \u001b[0;36mDataServiceProviderBase.check_response\u001b[0;34m(response, endpoint_name, endpoint, payload, success_codes, exception_type)\u001b[0m\n\u001b[1;32m    303\u001b[0m             error \u001b[38;5;241m=\u001b[39m response\u001b[38;5;241m.\u001b[39mjson()\u001b[38;5;241m.\u001b[39mget(\u001b[38;5;124m\"\u001b[39m\u001b[38;5;124merrors\u001b[39m\u001b[38;5;124m\"\u001b[39m, \u001b[38;5;124m\"\u001b[39m\u001b[38;5;124munknown error\u001b[39m\u001b[38;5;124m\"\u001b[39m)\n\u001b[1;32m    305\u001b[0m         \u001b[38;5;28;01mraise\u001b[39;00m DataProviderException(\u001b[38;5;124mf\u001b[39m\u001b[38;5;124m\"\u001b[39m\u001b[38;5;132;01m{\u001b[39;00mendpoint_name\u001b[38;5;132;01m}\u001b[39;00m\u001b[38;5;124m failed: \u001b[39m\u001b[38;5;132;01m{\u001b[39;00merror\u001b[38;5;132;01m}\u001b[39;00m\u001b[38;5;124m\"\u001b[39m)\n\u001b[0;32m--> 307\u001b[0m     \u001b[38;5;28;01mraise\u001b[39;00m DataProviderException(\n\u001b[1;32m    308\u001b[0m         \u001b[38;5;124mf\u001b[39m\u001b[38;5;124m\"\u001b[39m\u001b[38;5;124mFailed to get a response for request: \u001b[39m\u001b[38;5;132;01m{\u001b[39;00mendpoint_name\u001b[38;5;132;01m}\u001b[39;00m\u001b[38;5;124m=\u001b[39m\u001b[38;5;132;01m{\u001b[39;00mendpoint\u001b[38;5;132;01m}\u001b[39;00m\u001b[38;5;124m, payload=\u001b[39m\u001b[38;5;132;01m{\u001b[39;00mpayload\u001b[38;5;132;01m}\u001b[39;00m\u001b[38;5;124m, response is \u001b[39m\u001b[38;5;132;01m{\u001b[39;00mresponse\u001b[38;5;132;01m}\u001b[39;00m\u001b[38;5;124m\"\u001b[39m\n\u001b[1;32m    309\u001b[0m     )\n\u001b[1;32m    311\u001b[0m \u001b[38;5;28;01mif\u001b[39;00m \u001b[38;5;129;01mnot\u001b[39;00m success_codes:\n\u001b[1;32m    312\u001b[0m     success_codes \u001b[38;5;241m=\u001b[39m [\u001b[38;5;241m200\u001b[39m]\n",
      "\u001b[0;31mDataProviderException\u001b[0m: Failed to get a response for request: jobResultEndpoint=http://172.15.0.4:8030/api/services/computeResult, payload={'signature': '0x38b53090872e239ae4581427cbbd2ddebd91222eff4ad224eeef670d00c4abf65cbdb80058727f636109fe88df66f6f019adf8ed4523a53824eaec8cd43d9e3e1c', 'nonce': '1661979184.198615', 'jobId': '4e7ae74a1d5240a189575e7f13ac1ce2', 'index': 0, 'consumerAddress': '0x529043886F21D9bc1AE0feDb751e34265a246e47'}, response is <Response [404]>"
     ]
    }
   ],
   "source": [
    "ocean.compute.status(DATA_asset, compute_service, job_id, bob_wallet)\n",
    "# Retrieve algorithm output and log files\n",
    "output = ocean.compute.compute_job_result_logs(\n",
    "    DATA_asset, compute_service, job_id, bob_wallet\n",
    ")[0]\n",
    "\n",
    "import pickle\n",
    "model = pickle.loads(output)  # the gaussian model result\n",
    "assert len(model) > 0, \"unpickle result unsuccessful\""
   ]
  },
  {
   "cell_type": "code",
   "execution_count": 17,
   "id": "b207835c-84f0-400b-819c-c0e634c79f25",
   "metadata": {},
   "outputs": [
    {
     "name": "stderr",
     "output_type": "stream",
     "text": [
      "INFO:ocean_lib.data_provider.data_service_provider:invoke compute endpoint with this url: http://172.15.0.4:8030/api/services/compute?consumerAddress=0x529043886F21D9bc1AE0feDb751e34265a246e47&documentId=did%3Aop%3Ad31c55ac17031602e5479ada579de8a7e5567231e09f32a1d473fd181a687a2f&jobId=4e7ae74a1d5240a189575e7f13ac1ce2&nonce=1661978549.734384&signature=0x23e820c34fc49e136e9faa75f6332ac5d9dfaf4fae4ea7fc188d403f04f6926763a4188b8fa27c39eea78139248c800a2215a217940fe4ea628cd23194e63e6b1c\n"
     ]
    },
    {
     "name": "stdout",
     "output_type": "stream",
     "text": [
      "signing message with nonce 1661978549.734384: 0x529043886F21D9bc1AE0feDb751e34265a246e474e7ae74a1d5240a189575e7f13ac1ce2did:op:d31c55ac17031602e5479ada579de8a7e5567231e09f32a1d473fd181a687a2f, account=0x529043886F21D9bc1AE0feDb751e34265a246e47\n"
     ]
    },
    {
     "name": "stderr",
     "output_type": "stream",
     "text": [
      "INFO:ocean_lib.data_provider.data_service_provider:invoke compute endpoint with this url: http://172.15.0.4:8030/api/services/compute?consumerAddress=0x529043886F21D9bc1AE0feDb751e34265a246e47&documentId=did%3Aop%3Ad31c55ac17031602e5479ada579de8a7e5567231e09f32a1d473fd181a687a2f&jobId=4e7ae74a1d5240a189575e7f13ac1ce2&nonce=1661978554.783301&signature=0x2269756e2f4a88a0cea92320c3724476dc8472d0e5d861bb0d59769e31a5ec57014ec0a7638c10ee460fb19823d9a19bb33834aabf01bed34063b239858af1601b\n"
     ]
    },
    {
     "name": "stdout",
     "output_type": "stream",
     "text": [
      "signing message with nonce 1661978554.783301: 0x529043886F21D9bc1AE0feDb751e34265a246e474e7ae74a1d5240a189575e7f13ac1ce2did:op:d31c55ac17031602e5479ada579de8a7e5567231e09f32a1d473fd181a687a2f, account=0x529043886F21D9bc1AE0feDb751e34265a246e47\n"
     ]
    },
    {
     "name": "stderr",
     "output_type": "stream",
     "text": [
      "INFO:ocean_lib.data_provider.data_service_provider:invoke compute endpoint with this url: http://172.15.0.4:8030/api/services/compute?consumerAddress=0x529043886F21D9bc1AE0feDb751e34265a246e47&documentId=did%3Aop%3Ad31c55ac17031602e5479ada579de8a7e5567231e09f32a1d473fd181a687a2f&jobId=4e7ae74a1d5240a189575e7f13ac1ce2&nonce=1661978559.881612&signature=0x119912a43647c78e338d8171ab7280d9dfc845e5d86e370214089d7fbab8c95b56a7decd85def6e0a5be2068612bb208ed0d0205c67265b301b428709145de091b\n"
     ]
    },
    {
     "name": "stdout",
     "output_type": "stream",
     "text": [
      "signing message with nonce 1661978559.881612: 0x529043886F21D9bc1AE0feDb751e34265a246e474e7ae74a1d5240a189575e7f13ac1ce2did:op:d31c55ac17031602e5479ada579de8a7e5567231e09f32a1d473fd181a687a2f, account=0x529043886F21D9bc1AE0feDb751e34265a246e47\n"
     ]
    },
    {
     "name": "stderr",
     "output_type": "stream",
     "text": [
      "INFO:ocean_lib.data_provider.data_service_provider:invoke compute endpoint with this url: http://172.15.0.4:8030/api/services/compute?consumerAddress=0x529043886F21D9bc1AE0feDb751e34265a246e47&documentId=did%3Aop%3Ad31c55ac17031602e5479ada579de8a7e5567231e09f32a1d473fd181a687a2f&jobId=4e7ae74a1d5240a189575e7f13ac1ce2&nonce=1661978564.954951&signature=0x97c11d4ae7ec346922718fe99274f4a8713cb1b03aa5850f9e86f77efd10713d5a8e01f8c4217fddadd276adcab38e35f7179d99f67fdfc1fd99dc9b1ede3ecd1b\n"
     ]
    },
    {
     "name": "stdout",
     "output_type": "stream",
     "text": [
      "signing message with nonce 1661978564.954951: 0x529043886F21D9bc1AE0feDb751e34265a246e474e7ae74a1d5240a189575e7f13ac1ce2did:op:d31c55ac17031602e5479ada579de8a7e5567231e09f32a1d473fd181a687a2f, account=0x529043886F21D9bc1AE0feDb751e34265a246e47\n"
     ]
    },
    {
     "name": "stderr",
     "output_type": "stream",
     "text": [
      "INFO:ocean_lib.data_provider.data_service_provider:invoke compute endpoint with this url: http://172.15.0.4:8030/api/services/compute?consumerAddress=0x529043886F21D9bc1AE0feDb751e34265a246e47&documentId=did%3Aop%3Ad31c55ac17031602e5479ada579de8a7e5567231e09f32a1d473fd181a687a2f&jobId=4e7ae74a1d5240a189575e7f13ac1ce2&nonce=1661978570.00085&signature=0x2aa2dc844d9c8b2dac2951ba3b486dd5cf9ba289fd749189b8cd26c7a58909ab5d0dd215f809c18de1a760a9906ccf47651704b6b04f4274af570ca3f7f7c2771b\n"
     ]
    },
    {
     "name": "stdout",
     "output_type": "stream",
     "text": [
      "signing message with nonce 1661978570.00085: 0x529043886F21D9bc1AE0feDb751e34265a246e474e7ae74a1d5240a189575e7f13ac1ce2did:op:d31c55ac17031602e5479ada579de8a7e5567231e09f32a1d473fd181a687a2f, account=0x529043886F21D9bc1AE0feDb751e34265a246e47\n"
     ]
    },
    {
     "name": "stderr",
     "output_type": "stream",
     "text": [
      "INFO:ocean_lib.data_provider.data_service_provider:invoke compute endpoint with this url: http://172.15.0.4:8030/api/services/compute?consumerAddress=0x529043886F21D9bc1AE0feDb751e34265a246e47&documentId=did%3Aop%3Ad31c55ac17031602e5479ada579de8a7e5567231e09f32a1d473fd181a687a2f&jobId=4e7ae74a1d5240a189575e7f13ac1ce2&nonce=1661978575.0468&signature=0x4e713641dc23db61931dfd86589111a8614d0b04840e606ca8af3858e5f1800136b7aca03611e271a14ac24c922d987a9452720813adacfb7bf742f4d6c958771b\n"
     ]
    },
    {
     "name": "stdout",
     "output_type": "stream",
     "text": [
      "signing message with nonce 1661978575.0468: 0x529043886F21D9bc1AE0feDb751e34265a246e474e7ae74a1d5240a189575e7f13ac1ce2did:op:d31c55ac17031602e5479ada579de8a7e5567231e09f32a1d473fd181a687a2f, account=0x529043886F21D9bc1AE0feDb751e34265a246e47\n"
     ]
    },
    {
     "name": "stderr",
     "output_type": "stream",
     "text": [
      "INFO:ocean_lib.data_provider.data_service_provider:invoke compute endpoint with this url: http://172.15.0.4:8030/api/services/compute?consumerAddress=0x529043886F21D9bc1AE0feDb751e34265a246e47&documentId=did%3Aop%3Ad31c55ac17031602e5479ada579de8a7e5567231e09f32a1d473fd181a687a2f&jobId=4e7ae74a1d5240a189575e7f13ac1ce2&nonce=1661978580.090818&signature=0xa156d99f95f2f5a87ff7ca6e1869c2ab652c3c166a83b2e217293b4fa54a88f55668886dcd799b3854438e4d0c782aa57b2dc79ec1c9f9cfaa7c7a944f77e0dd1b\n"
     ]
    },
    {
     "name": "stdout",
     "output_type": "stream",
     "text": [
      "signing message with nonce 1661978580.090818: 0x529043886F21D9bc1AE0feDb751e34265a246e474e7ae74a1d5240a189575e7f13ac1ce2did:op:d31c55ac17031602e5479ada579de8a7e5567231e09f32a1d473fd181a687a2f, account=0x529043886F21D9bc1AE0feDb751e34265a246e47\n"
     ]
    },
    {
     "name": "stderr",
     "output_type": "stream",
     "text": [
      "INFO:ocean_lib.data_provider.data_service_provider:invoke compute endpoint with this url: http://172.15.0.4:8030/api/services/compute?consumerAddress=0x529043886F21D9bc1AE0feDb751e34265a246e47&documentId=did%3Aop%3Ad31c55ac17031602e5479ada579de8a7e5567231e09f32a1d473fd181a687a2f&jobId=4e7ae74a1d5240a189575e7f13ac1ce2&nonce=1661978585.143361&signature=0xf341ade2445abc977122f7652ee53a3f920d0709f35f950529b78d6e07d61d8e7989665d04e78bfce0fcb111a7e02bf0ffbcd10eab72a3decb2dc0aa072aea111b\n"
     ]
    },
    {
     "name": "stdout",
     "output_type": "stream",
     "text": [
      "signing message with nonce 1661978585.143361: 0x529043886F21D9bc1AE0feDb751e34265a246e474e7ae74a1d5240a189575e7f13ac1ce2did:op:d31c55ac17031602e5479ada579de8a7e5567231e09f32a1d473fd181a687a2f, account=0x529043886F21D9bc1AE0feDb751e34265a246e47\n"
     ]
    },
    {
     "name": "stderr",
     "output_type": "stream",
     "text": [
      "INFO:ocean_lib.data_provider.data_service_provider:invoke compute endpoint with this url: http://172.15.0.4:8030/api/services/compute?consumerAddress=0x529043886F21D9bc1AE0feDb751e34265a246e47&documentId=did%3Aop%3Ad31c55ac17031602e5479ada579de8a7e5567231e09f32a1d473fd181a687a2f&jobId=4e7ae74a1d5240a189575e7f13ac1ce2&nonce=1661978590.239286&signature=0xb2d6e8d0b9052c511e3e25fd2f4113e3c774e5dd8205eeae7574e0fdef411a15700559f200d0dde729adf9a5935aaf43a3bc9474a6d16b1d66ae1fb63f3ee6931b\n"
     ]
    },
    {
     "name": "stdout",
     "output_type": "stream",
     "text": [
      "signing message with nonce 1661978590.239286: 0x529043886F21D9bc1AE0feDb751e34265a246e474e7ae74a1d5240a189575e7f13ac1ce2did:op:d31c55ac17031602e5479ada579de8a7e5567231e09f32a1d473fd181a687a2f, account=0x529043886F21D9bc1AE0feDb751e34265a246e47\n"
     ]
    },
    {
     "name": "stderr",
     "output_type": "stream",
     "text": [
      "INFO:ocean_lib.data_provider.data_service_provider:invoke compute endpoint with this url: http://172.15.0.4:8030/api/services/compute?consumerAddress=0x529043886F21D9bc1AE0feDb751e34265a246e47&documentId=did%3Aop%3Ad31c55ac17031602e5479ada579de8a7e5567231e09f32a1d473fd181a687a2f&jobId=4e7ae74a1d5240a189575e7f13ac1ce2&nonce=1661978595.290367&signature=0xb1005e3689a0e9473c179cb0dc8881322720b881716a843df838238a062c2be21ab80b4a97686eaf26e8884c4abcd0fbe108f4054bd4f7055b256a94f2d6a66e1c\n"
     ]
    },
    {
     "name": "stdout",
     "output_type": "stream",
     "text": [
      "signing message with nonce 1661978595.290367: 0x529043886F21D9bc1AE0feDb751e34265a246e474e7ae74a1d5240a189575e7f13ac1ce2did:op:d31c55ac17031602e5479ada579de8a7e5567231e09f32a1d473fd181a687a2f, account=0x529043886F21D9bc1AE0feDb751e34265a246e47\n"
     ]
    },
    {
     "name": "stderr",
     "output_type": "stream",
     "text": [
      "INFO:ocean_lib.data_provider.data_service_provider:invoke compute endpoint with this url: http://172.15.0.4:8030/api/services/compute?consumerAddress=0x529043886F21D9bc1AE0feDb751e34265a246e47&documentId=did%3Aop%3Ad31c55ac17031602e5479ada579de8a7e5567231e09f32a1d473fd181a687a2f&jobId=4e7ae74a1d5240a189575e7f13ac1ce2&nonce=1661978601.081857&signature=0x55eb186bc69602ce3b345f69fda0edcbda336f24cbbc6a9fe4c733efa1ea336c46d1f7ceb513977b1cc3f624c41d827c6208087bb7ce7fea0a163e21308031151b\n"
     ]
    },
    {
     "name": "stdout",
     "output_type": "stream",
     "text": [
      "signing message with nonce 1661978601.081857: 0x529043886F21D9bc1AE0feDb751e34265a246e474e7ae74a1d5240a189575e7f13ac1ce2did:op:d31c55ac17031602e5479ada579de8a7e5567231e09f32a1d473fd181a687a2f, account=0x529043886F21D9bc1AE0feDb751e34265a246e47\n"
     ]
    },
    {
     "name": "stderr",
     "output_type": "stream",
     "text": [
      "INFO:ocean_lib.data_provider.data_service_provider:invoke compute endpoint with this url: http://172.15.0.4:8030/api/services/compute?consumerAddress=0x529043886F21D9bc1AE0feDb751e34265a246e47&documentId=did%3Aop%3Ad31c55ac17031602e5479ada579de8a7e5567231e09f32a1d473fd181a687a2f&jobId=4e7ae74a1d5240a189575e7f13ac1ce2&nonce=1661978606.135107&signature=0x22b8020e9cedfea329b387c0f103d343bef346db5a68928615247c7ef70c6a8430a29f94462cf8f60cc7510033276c6d3d35dcc72dd7669f3404058c0dcaedba1b\n"
     ]
    },
    {
     "name": "stdout",
     "output_type": "stream",
     "text": [
      "signing message with nonce 1661978606.135107: 0x529043886F21D9bc1AE0feDb751e34265a246e474e7ae74a1d5240a189575e7f13ac1ce2did:op:d31c55ac17031602e5479ada579de8a7e5567231e09f32a1d473fd181a687a2f, account=0x529043886F21D9bc1AE0feDb751e34265a246e47\n"
     ]
    },
    {
     "name": "stderr",
     "output_type": "stream",
     "text": [
      "INFO:ocean_lib.data_provider.data_service_provider:invoke compute endpoint with this url: http://172.15.0.4:8030/api/services/compute?consumerAddress=0x529043886F21D9bc1AE0feDb751e34265a246e47&documentId=did%3Aop%3Ad31c55ac17031602e5479ada579de8a7e5567231e09f32a1d473fd181a687a2f&jobId=4e7ae74a1d5240a189575e7f13ac1ce2&nonce=1661978611.186409&signature=0xda8b1a3c7ef4cb5b182449b83fdc5d8fe33e732f0e10abae4fc95b3a8ff1042f6edaf966a1953eacfe465b998b7067bd7f789b8168853abecf55dca1b485fdd61b\n"
     ]
    },
    {
     "name": "stdout",
     "output_type": "stream",
     "text": [
      "signing message with nonce 1661978611.186409: 0x529043886F21D9bc1AE0feDb751e34265a246e474e7ae74a1d5240a189575e7f13ac1ce2did:op:d31c55ac17031602e5479ada579de8a7e5567231e09f32a1d473fd181a687a2f, account=0x529043886F21D9bc1AE0feDb751e34265a246e47\n"
     ]
    },
    {
     "name": "stderr",
     "output_type": "stream",
     "text": [
      "INFO:ocean_lib.data_provider.data_service_provider:invoke compute endpoint with this url: http://172.15.0.4:8030/api/services/compute?consumerAddress=0x529043886F21D9bc1AE0feDb751e34265a246e47&documentId=did%3Aop%3Ad31c55ac17031602e5479ada579de8a7e5567231e09f32a1d473fd181a687a2f&jobId=4e7ae74a1d5240a189575e7f13ac1ce2&nonce=1661978616.237233&signature=0x4e62714718599b46ed5d9ffa7e78b9b16ad0c8c1ea8d60573a6ac1a591a76d8131b1d40dbb5f998c32689af7ce9b65eef6fe3907c66045014d6afaba0729f7e11b\n"
     ]
    },
    {
     "name": "stdout",
     "output_type": "stream",
     "text": [
      "signing message with nonce 1661978616.237233: 0x529043886F21D9bc1AE0feDb751e34265a246e474e7ae74a1d5240a189575e7f13ac1ce2did:op:d31c55ac17031602e5479ada579de8a7e5567231e09f32a1d473fd181a687a2f, account=0x529043886F21D9bc1AE0feDb751e34265a246e47\n"
     ]
    },
    {
     "name": "stderr",
     "output_type": "stream",
     "text": [
      "INFO:ocean_lib.data_provider.data_service_provider:invoke compute endpoint with this url: http://172.15.0.4:8030/api/services/compute?consumerAddress=0x529043886F21D9bc1AE0feDb751e34265a246e47&documentId=did%3Aop%3Ad31c55ac17031602e5479ada579de8a7e5567231e09f32a1d473fd181a687a2f&jobId=4e7ae74a1d5240a189575e7f13ac1ce2&nonce=1661978621.307451&signature=0xfea0af8ce7c03ac663d2c1b956638b96d2c3ef573185979fae7887d7f8d0b0106d641da73b66e76b3b19f5ef6417c31dadf48e9d48b3c8e28b31cb0744ce262a1c\n"
     ]
    },
    {
     "name": "stdout",
     "output_type": "stream",
     "text": [
      "signing message with nonce 1661978621.307451: 0x529043886F21D9bc1AE0feDb751e34265a246e474e7ae74a1d5240a189575e7f13ac1ce2did:op:d31c55ac17031602e5479ada579de8a7e5567231e09f32a1d473fd181a687a2f, account=0x529043886F21D9bc1AE0feDb751e34265a246e47\n"
     ]
    },
    {
     "name": "stderr",
     "output_type": "stream",
     "text": [
      "INFO:ocean_lib.data_provider.data_service_provider:invoke compute endpoint with this url: http://172.15.0.4:8030/api/services/compute?consumerAddress=0x529043886F21D9bc1AE0feDb751e34265a246e47&documentId=did%3Aop%3Ad31c55ac17031602e5479ada579de8a7e5567231e09f32a1d473fd181a687a2f&jobId=4e7ae74a1d5240a189575e7f13ac1ce2&nonce=1661978626.361923&signature=0xbb5edb9fd552bee5f8534e96dc1103483231e97fbfafee6144798ac94e133f9526694af859f2bf19fa4b7317d793589704850b73f5e52af522edc72cb2a9b4211c\n"
     ]
    },
    {
     "name": "stdout",
     "output_type": "stream",
     "text": [
      "signing message with nonce 1661978626.361923: 0x529043886F21D9bc1AE0feDb751e34265a246e474e7ae74a1d5240a189575e7f13ac1ce2did:op:d31c55ac17031602e5479ada579de8a7e5567231e09f32a1d473fd181a687a2f, account=0x529043886F21D9bc1AE0feDb751e34265a246e47\n"
     ]
    },
    {
     "name": "stderr",
     "output_type": "stream",
     "text": [
      "INFO:ocean_lib.data_provider.data_service_provider:invoke compute endpoint with this url: http://172.15.0.4:8030/api/services/compute?consumerAddress=0x529043886F21D9bc1AE0feDb751e34265a246e47&documentId=did%3Aop%3Ad31c55ac17031602e5479ada579de8a7e5567231e09f32a1d473fd181a687a2f&jobId=4e7ae74a1d5240a189575e7f13ac1ce2&nonce=1661978631.412471&signature=0x2aedf858291973bbc1b96cf5a3366d79785c4562deba852a1856dea6ee27b21908330d4ba119a3ba162248527f9c5670c64ae62944f6f13fb161d4e7d0cbef591c\n"
     ]
    },
    {
     "name": "stdout",
     "output_type": "stream",
     "text": [
      "signing message with nonce 1661978631.412471: 0x529043886F21D9bc1AE0feDb751e34265a246e474e7ae74a1d5240a189575e7f13ac1ce2did:op:d31c55ac17031602e5479ada579de8a7e5567231e09f32a1d473fd181a687a2f, account=0x529043886F21D9bc1AE0feDb751e34265a246e47\n"
     ]
    },
    {
     "name": "stderr",
     "output_type": "stream",
     "text": [
      "INFO:ocean_lib.data_provider.data_service_provider:invoke compute endpoint with this url: http://172.15.0.4:8030/api/services/compute?consumerAddress=0x529043886F21D9bc1AE0feDb751e34265a246e47&documentId=did%3Aop%3Ad31c55ac17031602e5479ada579de8a7e5567231e09f32a1d473fd181a687a2f&jobId=4e7ae74a1d5240a189575e7f13ac1ce2&nonce=1661978636.992125&signature=0xfc66b3fca1d4775f4337b0ffb726553f40e92482a65b3e6291f191a1c8eef91130b3808fb9f77dec39a22025cc38a27ad07b35518db9fdc9c88fac78efea76621b\n"
     ]
    },
    {
     "name": "stdout",
     "output_type": "stream",
     "text": [
      "signing message with nonce 1661978636.992125: 0x529043886F21D9bc1AE0feDb751e34265a246e474e7ae74a1d5240a189575e7f13ac1ce2did:op:d31c55ac17031602e5479ada579de8a7e5567231e09f32a1d473fd181a687a2f, account=0x529043886F21D9bc1AE0feDb751e34265a246e47\n"
     ]
    },
    {
     "name": "stderr",
     "output_type": "stream",
     "text": [
      "INFO:ocean_lib.data_provider.data_service_provider:invoke compute endpoint with this url: http://172.15.0.4:8030/api/services/compute?consumerAddress=0x529043886F21D9bc1AE0feDb751e34265a246e47&documentId=did%3Aop%3Ad31c55ac17031602e5479ada579de8a7e5567231e09f32a1d473fd181a687a2f&jobId=4e7ae74a1d5240a189575e7f13ac1ce2&nonce=1661978642.042335&signature=0x671c172fb7c6077a037a8427bc7f3b906e692c45144c8f0fba29d41755277d1b7d01f67f3c7a8cff1c954f695fdf35b2034a8f381bb180c7843b84f6e41707e11b\n"
     ]
    },
    {
     "name": "stdout",
     "output_type": "stream",
     "text": [
      "signing message with nonce 1661978642.042335: 0x529043886F21D9bc1AE0feDb751e34265a246e474e7ae74a1d5240a189575e7f13ac1ce2did:op:d31c55ac17031602e5479ada579de8a7e5567231e09f32a1d473fd181a687a2f, account=0x529043886F21D9bc1AE0feDb751e34265a246e47\n"
     ]
    },
    {
     "name": "stderr",
     "output_type": "stream",
     "text": [
      "INFO:ocean_lib.data_provider.data_service_provider:invoke compute endpoint with this url: http://172.15.0.4:8030/api/services/compute?consumerAddress=0x529043886F21D9bc1AE0feDb751e34265a246e47&documentId=did%3Aop%3Ad31c55ac17031602e5479ada579de8a7e5567231e09f32a1d473fd181a687a2f&jobId=4e7ae74a1d5240a189575e7f13ac1ce2&nonce=1661978647.094311&signature=0x4567384e02822b7f411a8a8770216a88431371c708a2e99d3952cc5b7359f496384c9ef0d38b842834150105f8da60eb2d0238c27d81c3906bfd633588b27c8b1c\n"
     ]
    },
    {
     "name": "stdout",
     "output_type": "stream",
     "text": [
      "signing message with nonce 1661978647.094311: 0x529043886F21D9bc1AE0feDb751e34265a246e474e7ae74a1d5240a189575e7f13ac1ce2did:op:d31c55ac17031602e5479ada579de8a7e5567231e09f32a1d473fd181a687a2f, account=0x529043886F21D9bc1AE0feDb751e34265a246e47\n"
     ]
    },
    {
     "name": "stderr",
     "output_type": "stream",
     "text": [
      "INFO:ocean_lib.data_provider.data_service_provider:invoke compute endpoint with this url: http://172.15.0.4:8030/api/services/compute?consumerAddress=0x529043886F21D9bc1AE0feDb751e34265a246e47&documentId=did%3Aop%3Ad31c55ac17031602e5479ada579de8a7e5567231e09f32a1d473fd181a687a2f&jobId=4e7ae74a1d5240a189575e7f13ac1ce2&nonce=1661978654.178721&signature=0xc134b20f04284f474c408b70f8a77386dfdd56f357c07a82ccda1f941dd2fb3407be9b32fa3f034e4b3f8fc4590db654e14ab53b0c0fa156922baf1f1632daca1b\n"
     ]
    },
    {
     "name": "stdout",
     "output_type": "stream",
     "text": [
      "signing message with nonce 1661978654.178721: 0x529043886F21D9bc1AE0feDb751e34265a246e474e7ae74a1d5240a189575e7f13ac1ce2did:op:d31c55ac17031602e5479ada579de8a7e5567231e09f32a1d473fd181a687a2f, account=0x529043886F21D9bc1AE0feDb751e34265a246e47\n"
     ]
    },
    {
     "name": "stderr",
     "output_type": "stream",
     "text": [
      "INFO:ocean_lib.data_provider.data_service_provider:invoke compute endpoint with this url: http://172.15.0.4:8030/api/services/compute?consumerAddress=0x529043886F21D9bc1AE0feDb751e34265a246e47&documentId=did%3Aop%3Ad31c55ac17031602e5479ada579de8a7e5567231e09f32a1d473fd181a687a2f&jobId=4e7ae74a1d5240a189575e7f13ac1ce2&nonce=1661978659.23466&signature=0x3fe62ceee4190d4e5bad1396e12aec6f1615442e72becd695e2ba1551323155f6d496a39b1b3a16b74f2758ae121c9a287f8eb055dea385f60b2c0ceebca37a61b\n"
     ]
    },
    {
     "name": "stdout",
     "output_type": "stream",
     "text": [
      "signing message with nonce 1661978659.23466: 0x529043886F21D9bc1AE0feDb751e34265a246e474e7ae74a1d5240a189575e7f13ac1ce2did:op:d31c55ac17031602e5479ada579de8a7e5567231e09f32a1d473fd181a687a2f, account=0x529043886F21D9bc1AE0feDb751e34265a246e47\n"
     ]
    },
    {
     "name": "stderr",
     "output_type": "stream",
     "text": [
      "INFO:ocean_lib.data_provider.data_service_provider:invoke compute endpoint with this url: http://172.15.0.4:8030/api/services/compute?consumerAddress=0x529043886F21D9bc1AE0feDb751e34265a246e47&documentId=did%3Aop%3Ad31c55ac17031602e5479ada579de8a7e5567231e09f32a1d473fd181a687a2f&jobId=4e7ae74a1d5240a189575e7f13ac1ce2&nonce=1661978664.286641&signature=0xea6f8d5a63d525c4e5976c69dcba98e8ce27f1b310a74a71eb6ac25397c6afb97bd0b1225a621313b774ff4f8d7cd70cf0238b1deb171b2d91bfff7d078349fa1b\n"
     ]
    },
    {
     "name": "stdout",
     "output_type": "stream",
     "text": [
      "signing message with nonce 1661978664.286641: 0x529043886F21D9bc1AE0feDb751e34265a246e474e7ae74a1d5240a189575e7f13ac1ce2did:op:d31c55ac17031602e5479ada579de8a7e5567231e09f32a1d473fd181a687a2f, account=0x529043886F21D9bc1AE0feDb751e34265a246e47\n"
     ]
    },
    {
     "name": "stderr",
     "output_type": "stream",
     "text": [
      "INFO:ocean_lib.data_provider.data_service_provider:invoke compute endpoint with this url: http://172.15.0.4:8030/api/services/compute?consumerAddress=0x529043886F21D9bc1AE0feDb751e34265a246e47&documentId=did%3Aop%3Ad31c55ac17031602e5479ada579de8a7e5567231e09f32a1d473fd181a687a2f&jobId=4e7ae74a1d5240a189575e7f13ac1ce2&nonce=1661978669.338556&signature=0xe70316dd2ad7a7b6f0209ed2cf5a73a17f8ec5f10980ccfa449340d42cc4aaf12a524b5c1286b9c11edd9cb5b186fdce6276358a65bd107d2f06a3d69b9916961b\n"
     ]
    },
    {
     "name": "stdout",
     "output_type": "stream",
     "text": [
      "signing message with nonce 1661978669.338556: 0x529043886F21D9bc1AE0feDb751e34265a246e474e7ae74a1d5240a189575e7f13ac1ce2did:op:d31c55ac17031602e5479ada579de8a7e5567231e09f32a1d473fd181a687a2f, account=0x529043886F21D9bc1AE0feDb751e34265a246e47\n"
     ]
    },
    {
     "name": "stderr",
     "output_type": "stream",
     "text": [
      "INFO:ocean_lib.data_provider.data_service_provider:invoke compute endpoint with this url: http://172.15.0.4:8030/api/services/compute?consumerAddress=0x529043886F21D9bc1AE0feDb751e34265a246e47&documentId=did%3Aop%3Ad31c55ac17031602e5479ada579de8a7e5567231e09f32a1d473fd181a687a2f&jobId=4e7ae74a1d5240a189575e7f13ac1ce2&nonce=1661978674.382945&signature=0x18ba95a332a99122e098565a9bf51d0e4dd6b48dd5af099a41efde7ab07448a005b6a5651e0a6c3f8fc01a3b8e789db0ba30b398bc6feb132966a8b674da79581c\n"
     ]
    },
    {
     "name": "stdout",
     "output_type": "stream",
     "text": [
      "signing message with nonce 1661978674.382945: 0x529043886F21D9bc1AE0feDb751e34265a246e474e7ae74a1d5240a189575e7f13ac1ce2did:op:d31c55ac17031602e5479ada579de8a7e5567231e09f32a1d473fd181a687a2f, account=0x529043886F21D9bc1AE0feDb751e34265a246e47\n"
     ]
    },
    {
     "name": "stderr",
     "output_type": "stream",
     "text": [
      "INFO:ocean_lib.data_provider.data_service_provider:invoke compute endpoint with this url: http://172.15.0.4:8030/api/services/compute?consumerAddress=0x529043886F21D9bc1AE0feDb751e34265a246e47&documentId=did%3Aop%3Ad31c55ac17031602e5479ada579de8a7e5567231e09f32a1d473fd181a687a2f&jobId=4e7ae74a1d5240a189575e7f13ac1ce2&nonce=1661978679.431092&signature=0x385c170ea18aab9111558681f565519eb8ed9356c63fca5968fa0577269622c67e1c368144187e695abee222c0d720e5f8c436bff404f64c9cae91da6afcb75e1c\n"
     ]
    },
    {
     "name": "stdout",
     "output_type": "stream",
     "text": [
      "signing message with nonce 1661978679.431092: 0x529043886F21D9bc1AE0feDb751e34265a246e474e7ae74a1d5240a189575e7f13ac1ce2did:op:d31c55ac17031602e5479ada579de8a7e5567231e09f32a1d473fd181a687a2f, account=0x529043886F21D9bc1AE0feDb751e34265a246e47\n"
     ]
    },
    {
     "name": "stderr",
     "output_type": "stream",
     "text": [
      "INFO:ocean_lib.data_provider.data_service_provider:invoke compute endpoint with this url: http://172.15.0.4:8030/api/services/compute?consumerAddress=0x529043886F21D9bc1AE0feDb751e34265a246e47&documentId=did%3Aop%3Ad31c55ac17031602e5479ada579de8a7e5567231e09f32a1d473fd181a687a2f&jobId=4e7ae74a1d5240a189575e7f13ac1ce2&nonce=1661978684.481958&signature=0x84af5ab4a94cad5c4b0aad75a5bc02d3161520104a22ebda821be33dab1b8f831454eb654c56efacc4b7a301615b6b1bc5f0b5ca8ba45a15760a4b206fe061121b\n"
     ]
    },
    {
     "name": "stdout",
     "output_type": "stream",
     "text": [
      "signing message with nonce 1661978684.481958: 0x529043886F21D9bc1AE0feDb751e34265a246e474e7ae74a1d5240a189575e7f13ac1ce2did:op:d31c55ac17031602e5479ada579de8a7e5567231e09f32a1d473fd181a687a2f, account=0x529043886F21D9bc1AE0feDb751e34265a246e47\n"
     ]
    },
    {
     "name": "stderr",
     "output_type": "stream",
     "text": [
      "INFO:ocean_lib.data_provider.data_service_provider:invoke compute endpoint with this url: http://172.15.0.4:8030/api/services/compute?consumerAddress=0x529043886F21D9bc1AE0feDb751e34265a246e47&documentId=did%3Aop%3Ad31c55ac17031602e5479ada579de8a7e5567231e09f32a1d473fd181a687a2f&jobId=4e7ae74a1d5240a189575e7f13ac1ce2&nonce=1661978689.534778&signature=0x37da9932242e7c6eaa1e5fdb01d02f79cf245a7b197cc61b25c7128e41c237df1ad476de78cc7e65d0cea824992d0b435b2e4370586d5b65dca28d736d6b2b451c\n"
     ]
    },
    {
     "name": "stdout",
     "output_type": "stream",
     "text": [
      "signing message with nonce 1661978689.534778: 0x529043886F21D9bc1AE0feDb751e34265a246e474e7ae74a1d5240a189575e7f13ac1ce2did:op:d31c55ac17031602e5479ada579de8a7e5567231e09f32a1d473fd181a687a2f, account=0x529043886F21D9bc1AE0feDb751e34265a246e47\n"
     ]
    },
    {
     "name": "stderr",
     "output_type": "stream",
     "text": [
      "INFO:ocean_lib.data_provider.data_service_provider:invoke compute endpoint with this url: http://172.15.0.4:8030/api/services/compute?consumerAddress=0x529043886F21D9bc1AE0feDb751e34265a246e47&documentId=did%3Aop%3Ad31c55ac17031602e5479ada579de8a7e5567231e09f32a1d473fd181a687a2f&jobId=4e7ae74a1d5240a189575e7f13ac1ce2&nonce=1661978694.583304&signature=0x240ef1ec1fdc3f4a2ec40e54d35073a66d97860f8b08325fb4fa2b25b4ebd27b57f1fc1233c5e612dd43d02b89491a648ab43133752060f861d0fbfd48c30f631b\n"
     ]
    },
    {
     "name": "stdout",
     "output_type": "stream",
     "text": [
      "signing message with nonce 1661978694.583304: 0x529043886F21D9bc1AE0feDb751e34265a246e474e7ae74a1d5240a189575e7f13ac1ce2did:op:d31c55ac17031602e5479ada579de8a7e5567231e09f32a1d473fd181a687a2f, account=0x529043886F21D9bc1AE0feDb751e34265a246e47\n"
     ]
    },
    {
     "name": "stderr",
     "output_type": "stream",
     "text": [
      "INFO:ocean_lib.data_provider.data_service_provider:invoke compute endpoint with this url: http://172.15.0.4:8030/api/services/compute?consumerAddress=0x529043886F21D9bc1AE0feDb751e34265a246e47&documentId=did%3Aop%3Ad31c55ac17031602e5479ada579de8a7e5567231e09f32a1d473fd181a687a2f&jobId=4e7ae74a1d5240a189575e7f13ac1ce2&nonce=1661978699.634511&signature=0xf1e9f22963c7b6a721f08598cea92642b941a52516629a098d83a24ea69ccc0244ba19eb7fefe1c52624dc565254e18fe265fd7ac5101ee05fe5d3ce4d6802521b\n"
     ]
    },
    {
     "name": "stdout",
     "output_type": "stream",
     "text": [
      "signing message with nonce 1661978699.634511: 0x529043886F21D9bc1AE0feDb751e34265a246e474e7ae74a1d5240a189575e7f13ac1ce2did:op:d31c55ac17031602e5479ada579de8a7e5567231e09f32a1d473fd181a687a2f, account=0x529043886F21D9bc1AE0feDb751e34265a246e47\n"
     ]
    },
    {
     "name": "stderr",
     "output_type": "stream",
     "text": [
      "INFO:ocean_lib.data_provider.data_service_provider:invoke compute endpoint with this url: http://172.15.0.4:8030/api/services/compute?consumerAddress=0x529043886F21D9bc1AE0feDb751e34265a246e47&documentId=did%3Aop%3Ad31c55ac17031602e5479ada579de8a7e5567231e09f32a1d473fd181a687a2f&jobId=4e7ae74a1d5240a189575e7f13ac1ce2&nonce=1661978704.688621&signature=0xd9d4d29ca08c5eb85fc0c0949538ccbecbad02028e370b700e8f97074ae3694131481aa7cbd41ffae1ef9a9e1c358cf0292c4073ef22100b75f55a6a29d5f7621c\n"
     ]
    },
    {
     "name": "stdout",
     "output_type": "stream",
     "text": [
      "signing message with nonce 1661978704.688621: 0x529043886F21D9bc1AE0feDb751e34265a246e474e7ae74a1d5240a189575e7f13ac1ce2did:op:d31c55ac17031602e5479ada579de8a7e5567231e09f32a1d473fd181a687a2f, account=0x529043886F21D9bc1AE0feDb751e34265a246e47\n"
     ]
    },
    {
     "name": "stderr",
     "output_type": "stream",
     "text": [
      "INFO:ocean_lib.data_provider.data_service_provider:invoke compute endpoint with this url: http://172.15.0.4:8030/api/services/compute?consumerAddress=0x529043886F21D9bc1AE0feDb751e34265a246e47&documentId=did%3Aop%3Ad31c55ac17031602e5479ada579de8a7e5567231e09f32a1d473fd181a687a2f&jobId=4e7ae74a1d5240a189575e7f13ac1ce2&nonce=1661978709.743142&signature=0x0ca15b09accd5dd84ef579f34c19e66021f349ae958b8e294602004ed7d310bf3603e6613cd79703f1d6cde371fdd24c6e5691cb786512b1f5e459a4d7656c511b\n"
     ]
    },
    {
     "name": "stdout",
     "output_type": "stream",
     "text": [
      "signing message with nonce 1661978709.743142: 0x529043886F21D9bc1AE0feDb751e34265a246e474e7ae74a1d5240a189575e7f13ac1ce2did:op:d31c55ac17031602e5479ada579de8a7e5567231e09f32a1d473fd181a687a2f, account=0x529043886F21D9bc1AE0feDb751e34265a246e47\n"
     ]
    },
    {
     "name": "stderr",
     "output_type": "stream",
     "text": [
      "INFO:ocean_lib.data_provider.data_service_provider:invoke compute endpoint with this url: http://172.15.0.4:8030/api/services/compute?consumerAddress=0x529043886F21D9bc1AE0feDb751e34265a246e47&documentId=did%3Aop%3Ad31c55ac17031602e5479ada579de8a7e5567231e09f32a1d473fd181a687a2f&jobId=4e7ae74a1d5240a189575e7f13ac1ce2&nonce=1661978714.833598&signature=0x86b6d768ee1259ecbef14a64423b54cc96ddac88747e7480e953287d8264b5ee798aa0e96e3181859b6f87ca4ba0b12c43213986f83697da3f1477d6668a4ef21c\n"
     ]
    },
    {
     "name": "stdout",
     "output_type": "stream",
     "text": [
      "signing message with nonce 1661978714.833598: 0x529043886F21D9bc1AE0feDb751e34265a246e474e7ae74a1d5240a189575e7f13ac1ce2did:op:d31c55ac17031602e5479ada579de8a7e5567231e09f32a1d473fd181a687a2f, account=0x529043886F21D9bc1AE0feDb751e34265a246e47\n"
     ]
    },
    {
     "name": "stderr",
     "output_type": "stream",
     "text": [
      "INFO:ocean_lib.data_provider.data_service_provider:invoke compute endpoint with this url: http://172.15.0.4:8030/api/services/compute?consumerAddress=0x529043886F21D9bc1AE0feDb751e34265a246e47&documentId=did%3Aop%3Ad31c55ac17031602e5479ada579de8a7e5567231e09f32a1d473fd181a687a2f&jobId=4e7ae74a1d5240a189575e7f13ac1ce2&nonce=1661978719.883136&signature=0x10c1b4e5feae1c868d1a818467ebb6bd5815b4446e003ddd48160256fcaa39b1701f870df3d0f402a31b4ac19a46211f02a3e48b871c6fcb4a0b1dd5ef7e29a31c\n"
     ]
    },
    {
     "name": "stdout",
     "output_type": "stream",
     "text": [
      "signing message with nonce 1661978719.883136: 0x529043886F21D9bc1AE0feDb751e34265a246e474e7ae74a1d5240a189575e7f13ac1ce2did:op:d31c55ac17031602e5479ada579de8a7e5567231e09f32a1d473fd181a687a2f, account=0x529043886F21D9bc1AE0feDb751e34265a246e47\n"
     ]
    },
    {
     "name": "stderr",
     "output_type": "stream",
     "text": [
      "INFO:ocean_lib.data_provider.data_service_provider:invoke compute endpoint with this url: http://172.15.0.4:8030/api/services/compute?consumerAddress=0x529043886F21D9bc1AE0feDb751e34265a246e47&documentId=did%3Aop%3Ad31c55ac17031602e5479ada579de8a7e5567231e09f32a1d473fd181a687a2f&jobId=4e7ae74a1d5240a189575e7f13ac1ce2&nonce=1661978724.937081&signature=0x5fea310ce42dbf52c633c18b5a9bc068b188800fbda349d75a7bff0bad9fc4572a0c2d0e900cd6eff39b9498ad163fec6ada730ee589747cf823f3cadd6cfcb51c\n"
     ]
    },
    {
     "name": "stdout",
     "output_type": "stream",
     "text": [
      "signing message with nonce 1661978724.937081: 0x529043886F21D9bc1AE0feDb751e34265a246e474e7ae74a1d5240a189575e7f13ac1ce2did:op:d31c55ac17031602e5479ada579de8a7e5567231e09f32a1d473fd181a687a2f, account=0x529043886F21D9bc1AE0feDb751e34265a246e47\n"
     ]
    },
    {
     "name": "stderr",
     "output_type": "stream",
     "text": [
      "INFO:ocean_lib.data_provider.data_service_provider:invoke compute endpoint with this url: http://172.15.0.4:8030/api/services/compute?consumerAddress=0x529043886F21D9bc1AE0feDb751e34265a246e47&documentId=did%3Aop%3Ad31c55ac17031602e5479ada579de8a7e5567231e09f32a1d473fd181a687a2f&jobId=4e7ae74a1d5240a189575e7f13ac1ce2&nonce=1661978729.985648&signature=0x63cb707f36d2833e1fdfd45087121b046c3d438d605f988157f632c91434dc2d2ca0a7a3e6c134b6b8a2523e44e032dfccb3a47e506c8a0248b26d885c875de71b\n"
     ]
    },
    {
     "name": "stdout",
     "output_type": "stream",
     "text": [
      "signing message with nonce 1661978729.985648: 0x529043886F21D9bc1AE0feDb751e34265a246e474e7ae74a1d5240a189575e7f13ac1ce2did:op:d31c55ac17031602e5479ada579de8a7e5567231e09f32a1d473fd181a687a2f, account=0x529043886F21D9bc1AE0feDb751e34265a246e47\n"
     ]
    },
    {
     "name": "stderr",
     "output_type": "stream",
     "text": [
      "INFO:ocean_lib.data_provider.data_service_provider:invoke compute endpoint with this url: http://172.15.0.4:8030/api/services/compute?consumerAddress=0x529043886F21D9bc1AE0feDb751e34265a246e47&documentId=did%3Aop%3Ad31c55ac17031602e5479ada579de8a7e5567231e09f32a1d473fd181a687a2f&jobId=4e7ae74a1d5240a189575e7f13ac1ce2&nonce=1661978735.035108&signature=0x09fb73ce2eb32abe2661ee53b66c42bc90914964c8ab0fbad55c1b5f046f73894ed8b73674bb0669dd5b46ade33d18788a531fbd60aeca21654be5cd49692c5f1b\n"
     ]
    },
    {
     "name": "stdout",
     "output_type": "stream",
     "text": [
      "signing message with nonce 1661978735.035108: 0x529043886F21D9bc1AE0feDb751e34265a246e474e7ae74a1d5240a189575e7f13ac1ce2did:op:d31c55ac17031602e5479ada579de8a7e5567231e09f32a1d473fd181a687a2f, account=0x529043886F21D9bc1AE0feDb751e34265a246e47\n"
     ]
    },
    {
     "name": "stderr",
     "output_type": "stream",
     "text": [
      "INFO:ocean_lib.data_provider.data_service_provider:invoke compute endpoint with this url: http://172.15.0.4:8030/api/services/compute?consumerAddress=0x529043886F21D9bc1AE0feDb751e34265a246e47&documentId=did%3Aop%3Ad31c55ac17031602e5479ada579de8a7e5567231e09f32a1d473fd181a687a2f&jobId=4e7ae74a1d5240a189575e7f13ac1ce2&nonce=1661978740.093076&signature=0x747d768ca81663aeb9b744a4925579bea22a2ee8f21fbe29081c7aaaeb4ac22c731ffef702601bee82a26db53eb2dbdcbbd9f8ddcc81ed841831899e84986a0d1c\n"
     ]
    },
    {
     "name": "stdout",
     "output_type": "stream",
     "text": [
      "signing message with nonce 1661978740.093076: 0x529043886F21D9bc1AE0feDb751e34265a246e474e7ae74a1d5240a189575e7f13ac1ce2did:op:d31c55ac17031602e5479ada579de8a7e5567231e09f32a1d473fd181a687a2f, account=0x529043886F21D9bc1AE0feDb751e34265a246e47\n"
     ]
    },
    {
     "name": "stderr",
     "output_type": "stream",
     "text": [
      "INFO:ocean_lib.data_provider.data_service_provider:invoke compute endpoint with this url: http://172.15.0.4:8030/api/services/compute?consumerAddress=0x529043886F21D9bc1AE0feDb751e34265a246e47&documentId=did%3Aop%3Ad31c55ac17031602e5479ada579de8a7e5567231e09f32a1d473fd181a687a2f&jobId=4e7ae74a1d5240a189575e7f13ac1ce2&nonce=1661978745.174465&signature=0x2d56b96c9193ba80aeb4a870403346342cf31e213333374e2e998921fc5cede7597bb3c08d4f3bf77d12dc0b972445bed4f8ddb2fd7dbb4788063e2e60bde7041b\n"
     ]
    },
    {
     "name": "stdout",
     "output_type": "stream",
     "text": [
      "signing message with nonce 1661978745.174465: 0x529043886F21D9bc1AE0feDb751e34265a246e474e7ae74a1d5240a189575e7f13ac1ce2did:op:d31c55ac17031602e5479ada579de8a7e5567231e09f32a1d473fd181a687a2f, account=0x529043886F21D9bc1AE0feDb751e34265a246e47\n"
     ]
    },
    {
     "name": "stderr",
     "output_type": "stream",
     "text": [
      "INFO:ocean_lib.data_provider.data_service_provider:invoke compute endpoint with this url: http://172.15.0.4:8030/api/services/compute?consumerAddress=0x529043886F21D9bc1AE0feDb751e34265a246e47&documentId=did%3Aop%3Ad31c55ac17031602e5479ada579de8a7e5567231e09f32a1d473fd181a687a2f&jobId=4e7ae74a1d5240a189575e7f13ac1ce2&nonce=1661978750.222688&signature=0xf0fa1e93e36990cdfacfbe2c766be39e0c9c9899fd24da447d272f9e13c1c0206ce6dd57c6e6dbebe2bd1874dc5dd8097e153601e30b8c2a34722b63aa5333651c\n"
     ]
    },
    {
     "name": "stdout",
     "output_type": "stream",
     "text": [
      "signing message with nonce 1661978750.222688: 0x529043886F21D9bc1AE0feDb751e34265a246e474e7ae74a1d5240a189575e7f13ac1ce2did:op:d31c55ac17031602e5479ada579de8a7e5567231e09f32a1d473fd181a687a2f, account=0x529043886F21D9bc1AE0feDb751e34265a246e47\n"
     ]
    },
    {
     "name": "stderr",
     "output_type": "stream",
     "text": [
      "INFO:ocean_lib.data_provider.data_service_provider:invoke compute endpoint with this url: http://172.15.0.4:8030/api/services/compute?consumerAddress=0x529043886F21D9bc1AE0feDb751e34265a246e47&documentId=did%3Aop%3Ad31c55ac17031602e5479ada579de8a7e5567231e09f32a1d473fd181a687a2f&jobId=4e7ae74a1d5240a189575e7f13ac1ce2&nonce=1661978755.27503&signature=0x2d417c9ad1b43247ce6d320ac5acab068575fb783ee71184d29e935bfd3a5e22569a81c1a886b6565b73c14426e1da9b587bb116830657cae9dc021ece1538811c\n"
     ]
    },
    {
     "name": "stdout",
     "output_type": "stream",
     "text": [
      "signing message with nonce 1661978755.27503: 0x529043886F21D9bc1AE0feDb751e34265a246e474e7ae74a1d5240a189575e7f13ac1ce2did:op:d31c55ac17031602e5479ada579de8a7e5567231e09f32a1d473fd181a687a2f, account=0x529043886F21D9bc1AE0feDb751e34265a246e47\n"
     ]
    },
    {
     "name": "stderr",
     "output_type": "stream",
     "text": [
      "INFO:ocean_lib.data_provider.data_service_provider:invoke compute endpoint with this url: http://172.15.0.4:8030/api/services/compute?consumerAddress=0x529043886F21D9bc1AE0feDb751e34265a246e47&documentId=did%3Aop%3Ad31c55ac17031602e5479ada579de8a7e5567231e09f32a1d473fd181a687a2f&jobId=4e7ae74a1d5240a189575e7f13ac1ce2&nonce=1661978760.328429&signature=0xac683f690211fc8417af837292846884b0e4f7d8f9a3bee9310ad6893afb6bd30e9a754212a8ee47b69dbaf70572f9366be187b19c9d8fa79de7c2db84095d5d1c\n"
     ]
    },
    {
     "name": "stdout",
     "output_type": "stream",
     "text": [
      "signing message with nonce 1661978760.328429: 0x529043886F21D9bc1AE0feDb751e34265a246e474e7ae74a1d5240a189575e7f13ac1ce2did:op:d31c55ac17031602e5479ada579de8a7e5567231e09f32a1d473fd181a687a2f, account=0x529043886F21D9bc1AE0feDb751e34265a246e47\n"
     ]
    },
    {
     "name": "stderr",
     "output_type": "stream",
     "text": [
      "INFO:ocean_lib.data_provider.data_service_provider:invoke compute endpoint with this url: http://172.15.0.4:8030/api/services/compute?consumerAddress=0x529043886F21D9bc1AE0feDb751e34265a246e47&documentId=did%3Aop%3Ad31c55ac17031602e5479ada579de8a7e5567231e09f32a1d473fd181a687a2f&jobId=4e7ae74a1d5240a189575e7f13ac1ce2&nonce=1661978765.420052&signature=0x507bd3813689ca6d848076d18c620f5af4e60269edb96cae07839e0a208cf4f63f83de89144c5d0cb8aecea19b49bc7795e44a94e3d14e9292277ed11a6b02161c\n"
     ]
    },
    {
     "name": "stdout",
     "output_type": "stream",
     "text": [
      "signing message with nonce 1661978765.420052: 0x529043886F21D9bc1AE0feDb751e34265a246e474e7ae74a1d5240a189575e7f13ac1ce2did:op:d31c55ac17031602e5479ada579de8a7e5567231e09f32a1d473fd181a687a2f, account=0x529043886F21D9bc1AE0feDb751e34265a246e47\n"
     ]
    },
    {
     "name": "stderr",
     "output_type": "stream",
     "text": [
      "INFO:ocean_lib.data_provider.data_service_provider:invoke compute endpoint with this url: http://172.15.0.4:8030/api/services/compute?consumerAddress=0x529043886F21D9bc1AE0feDb751e34265a246e47&documentId=did%3Aop%3Ad31c55ac17031602e5479ada579de8a7e5567231e09f32a1d473fd181a687a2f&jobId=4e7ae74a1d5240a189575e7f13ac1ce2&nonce=1661978770.546672&signature=0x995ce97358faacf40a3b036a78f5ca0ab25d02af3ce940495ea5644a8473b4851e65b866e7c0bc8dfc2a55e02d4e293289e2c4833817aabf23cc7a980cc667a01c\n"
     ]
    },
    {
     "name": "stdout",
     "output_type": "stream",
     "text": [
      "signing message with nonce 1661978770.546672: 0x529043886F21D9bc1AE0feDb751e34265a246e474e7ae74a1d5240a189575e7f13ac1ce2did:op:d31c55ac17031602e5479ada579de8a7e5567231e09f32a1d473fd181a687a2f, account=0x529043886F21D9bc1AE0feDb751e34265a246e47\n"
     ]
    },
    {
     "name": "stderr",
     "output_type": "stream",
     "text": [
      "INFO:ocean_lib.data_provider.data_service_provider:invoke compute endpoint with this url: http://172.15.0.4:8030/api/services/compute?consumerAddress=0x529043886F21D9bc1AE0feDb751e34265a246e47&documentId=did%3Aop%3Ad31c55ac17031602e5479ada579de8a7e5567231e09f32a1d473fd181a687a2f&jobId=4e7ae74a1d5240a189575e7f13ac1ce2&nonce=1661978775.666763&signature=0x3c52ec18b969ef7761059d629fc712c76ba269a7a1469e4df9ea503f35a385bd07eedb637d614bb19d6cb71964a6101859b1b94bc51f7de116e0823377307d4b1c\n"
     ]
    },
    {
     "name": "stdout",
     "output_type": "stream",
     "text": [
      "signing message with nonce 1661978775.666763: 0x529043886F21D9bc1AE0feDb751e34265a246e474e7ae74a1d5240a189575e7f13ac1ce2did:op:d31c55ac17031602e5479ada579de8a7e5567231e09f32a1d473fd181a687a2f, account=0x529043886F21D9bc1AE0feDb751e34265a246e47\n"
     ]
    },
    {
     "name": "stderr",
     "output_type": "stream",
     "text": [
      "INFO:ocean_lib.data_provider.data_service_provider:invoke compute endpoint with this url: http://172.15.0.4:8030/api/services/compute?consumerAddress=0x529043886F21D9bc1AE0feDb751e34265a246e47&documentId=did%3Aop%3Ad31c55ac17031602e5479ada579de8a7e5567231e09f32a1d473fd181a687a2f&jobId=4e7ae74a1d5240a189575e7f13ac1ce2&nonce=1661978780.71909&signature=0x9538f1d94cec6c650af09eb321ae6b762dc95cffa96b4ff6edf8531e5f61eca0349b2564fffc2848a3579276d5aec1138b62bb3c5c8254ccb0f06d45df9f674d1c\n"
     ]
    },
    {
     "name": "stdout",
     "output_type": "stream",
     "text": [
      "signing message with nonce 1661978780.71909: 0x529043886F21D9bc1AE0feDb751e34265a246e474e7ae74a1d5240a189575e7f13ac1ce2did:op:d31c55ac17031602e5479ada579de8a7e5567231e09f32a1d473fd181a687a2f, account=0x529043886F21D9bc1AE0feDb751e34265a246e47\n"
     ]
    },
    {
     "name": "stderr",
     "output_type": "stream",
     "text": [
      "INFO:ocean_lib.data_provider.data_service_provider:invoke compute endpoint with this url: http://172.15.0.4:8030/api/services/compute?consumerAddress=0x529043886F21D9bc1AE0feDb751e34265a246e47&documentId=did%3Aop%3Ad31c55ac17031602e5479ada579de8a7e5567231e09f32a1d473fd181a687a2f&jobId=4e7ae74a1d5240a189575e7f13ac1ce2&nonce=1661978785.771346&signature=0x531b94d718132fc51bd0963d8bda73a55f662ec7631beb215e4bf8570b2236652be3e96ddc9dac5be490fd2f70a9115c3769956be2ac42f2d333c2edd16c72c31c\n"
     ]
    },
    {
     "name": "stdout",
     "output_type": "stream",
     "text": [
      "signing message with nonce 1661978785.771346: 0x529043886F21D9bc1AE0feDb751e34265a246e474e7ae74a1d5240a189575e7f13ac1ce2did:op:d31c55ac17031602e5479ada579de8a7e5567231e09f32a1d473fd181a687a2f, account=0x529043886F21D9bc1AE0feDb751e34265a246e47\n"
     ]
    },
    {
     "name": "stderr",
     "output_type": "stream",
     "text": [
      "INFO:ocean_lib.data_provider.data_service_provider:invoke compute endpoint with this url: http://172.15.0.4:8030/api/services/compute?consumerAddress=0x529043886F21D9bc1AE0feDb751e34265a246e47&documentId=did%3Aop%3Ad31c55ac17031602e5479ada579de8a7e5567231e09f32a1d473fd181a687a2f&jobId=4e7ae74a1d5240a189575e7f13ac1ce2&nonce=1661978790.818693&signature=0xe1aa763ca1d683df54b35d555746c43567ae7bd67568d0632109abc3e37e00b37e447398d14da2a834998ff7f92f55a9fe2dd7a0b84d487368f5ab533af78cd11b\n"
     ]
    },
    {
     "name": "stdout",
     "output_type": "stream",
     "text": [
      "signing message with nonce 1661978790.818693: 0x529043886F21D9bc1AE0feDb751e34265a246e474e7ae74a1d5240a189575e7f13ac1ce2did:op:d31c55ac17031602e5479ada579de8a7e5567231e09f32a1d473fd181a687a2f, account=0x529043886F21D9bc1AE0feDb751e34265a246e47\n"
     ]
    },
    {
     "name": "stderr",
     "output_type": "stream",
     "text": [
      "INFO:ocean_lib.data_provider.data_service_provider:invoke compute endpoint with this url: http://172.15.0.4:8030/api/services/compute?consumerAddress=0x529043886F21D9bc1AE0feDb751e34265a246e47&documentId=did%3Aop%3Ad31c55ac17031602e5479ada579de8a7e5567231e09f32a1d473fd181a687a2f&jobId=4e7ae74a1d5240a189575e7f13ac1ce2&nonce=1661978795.871367&signature=0x691a0102ca878d1929dd57ac56619f00fa0e4a4af9176cbc0b5a04437c0ef640334cf8cf8789ba7daa107477aee6d5b762cd15684ced9cc89af21da857b6b8c21c\n"
     ]
    },
    {
     "name": "stdout",
     "output_type": "stream",
     "text": [
      "signing message with nonce 1661978795.871367: 0x529043886F21D9bc1AE0feDb751e34265a246e474e7ae74a1d5240a189575e7f13ac1ce2did:op:d31c55ac17031602e5479ada579de8a7e5567231e09f32a1d473fd181a687a2f, account=0x529043886F21D9bc1AE0feDb751e34265a246e47\n"
     ]
    },
    {
     "name": "stderr",
     "output_type": "stream",
     "text": [
      "INFO:ocean_lib.data_provider.data_service_provider:invoke compute endpoint with this url: http://172.15.0.4:8030/api/services/compute?consumerAddress=0x529043886F21D9bc1AE0feDb751e34265a246e47&documentId=did%3Aop%3Ad31c55ac17031602e5479ada579de8a7e5567231e09f32a1d473fd181a687a2f&jobId=4e7ae74a1d5240a189575e7f13ac1ce2&nonce=1661978800.918987&signature=0x670b18488403a7301d9ea762be37d670d51fed07a46a063824b5b2916da9b6d41b3c29172bdaf3e471eae7f2b023bcb3f3ccfc6dcbe37efcda5c8de1ef3ff3281c\n"
     ]
    },
    {
     "name": "stdout",
     "output_type": "stream",
     "text": [
      "signing message with nonce 1661978800.918987: 0x529043886F21D9bc1AE0feDb751e34265a246e474e7ae74a1d5240a189575e7f13ac1ce2did:op:d31c55ac17031602e5479ada579de8a7e5567231e09f32a1d473fd181a687a2f, account=0x529043886F21D9bc1AE0feDb751e34265a246e47\n"
     ]
    },
    {
     "name": "stderr",
     "output_type": "stream",
     "text": [
      "INFO:ocean_lib.data_provider.data_service_provider:invoke compute endpoint with this url: http://172.15.0.4:8030/api/services/compute?consumerAddress=0x529043886F21D9bc1AE0feDb751e34265a246e47&documentId=did%3Aop%3Ad31c55ac17031602e5479ada579de8a7e5567231e09f32a1d473fd181a687a2f&jobId=4e7ae74a1d5240a189575e7f13ac1ce2&nonce=1661978805.968586&signature=0xb0473562a5eead36d2a812e910e210bc16ae89d2b804efe60336172675bdc7c134dcd7ef8c571aa590f83ea24d17eadd915f987239fdc076fbf06f4c054979b21c\n"
     ]
    },
    {
     "name": "stdout",
     "output_type": "stream",
     "text": [
      "signing message with nonce 1661978805.968586: 0x529043886F21D9bc1AE0feDb751e34265a246e474e7ae74a1d5240a189575e7f13ac1ce2did:op:d31c55ac17031602e5479ada579de8a7e5567231e09f32a1d473fd181a687a2f, account=0x529043886F21D9bc1AE0feDb751e34265a246e47\n"
     ]
    },
    {
     "name": "stderr",
     "output_type": "stream",
     "text": [
      "INFO:ocean_lib.data_provider.data_service_provider:invoke compute endpoint with this url: http://172.15.0.4:8030/api/services/compute?consumerAddress=0x529043886F21D9bc1AE0feDb751e34265a246e47&documentId=did%3Aop%3Ad31c55ac17031602e5479ada579de8a7e5567231e09f32a1d473fd181a687a2f&jobId=4e7ae74a1d5240a189575e7f13ac1ce2&nonce=1661978811.021828&signature=0x0765426be9e8d009fa9c3e3e24b2d8b9c51de17766748568b1a2a3d2013142723c6b18e3a71c74f036361dfa6f1445116a54e4dd9671a62e60dfe5b3b36642be1b\n"
     ]
    },
    {
     "name": "stdout",
     "output_type": "stream",
     "text": [
      "signing message with nonce 1661978811.021828: 0x529043886F21D9bc1AE0feDb751e34265a246e474e7ae74a1d5240a189575e7f13ac1ce2did:op:d31c55ac17031602e5479ada579de8a7e5567231e09f32a1d473fd181a687a2f, account=0x529043886F21D9bc1AE0feDb751e34265a246e47\n"
     ]
    },
    {
     "name": "stderr",
     "output_type": "stream",
     "text": [
      "INFO:ocean_lib.data_provider.data_service_provider:invoke compute endpoint with this url: http://172.15.0.4:8030/api/services/compute?consumerAddress=0x529043886F21D9bc1AE0feDb751e34265a246e47&documentId=did%3Aop%3Ad31c55ac17031602e5479ada579de8a7e5567231e09f32a1d473fd181a687a2f&jobId=4e7ae74a1d5240a189575e7f13ac1ce2&nonce=1661978816.077856&signature=0xd97186fc13bbfa6c94a2e5474ac0579459d08e4f0bb102dc3098146e5875e3fb752750a8797291074d2f712280469f7aaae5b5d04f08323e4a7cc2dbd741b6791c\n"
     ]
    },
    {
     "name": "stdout",
     "output_type": "stream",
     "text": [
      "signing message with nonce 1661978816.077856: 0x529043886F21D9bc1AE0feDb751e34265a246e474e7ae74a1d5240a189575e7f13ac1ce2did:op:d31c55ac17031602e5479ada579de8a7e5567231e09f32a1d473fd181a687a2f, account=0x529043886F21D9bc1AE0feDb751e34265a246e47\n"
     ]
    },
    {
     "name": "stderr",
     "output_type": "stream",
     "text": [
      "INFO:ocean_lib.data_provider.data_service_provider:invoke compute endpoint with this url: http://172.15.0.4:8030/api/services/compute?consumerAddress=0x529043886F21D9bc1AE0feDb751e34265a246e47&documentId=did%3Aop%3Ad31c55ac17031602e5479ada579de8a7e5567231e09f32a1d473fd181a687a2f&jobId=4e7ae74a1d5240a189575e7f13ac1ce2&nonce=1661978821.136102&signature=0xb70e38352f4efe2079805449d1f3fa0e089036eb15ad8fb4ed060aa3fad088464e595a52c8ce78585fb98c4d7e202cbe36bdafaeb6ceb03f681206c2550856fe1b\n"
     ]
    },
    {
     "name": "stdout",
     "output_type": "stream",
     "text": [
      "signing message with nonce 1661978821.136102: 0x529043886F21D9bc1AE0feDb751e34265a246e474e7ae74a1d5240a189575e7f13ac1ce2did:op:d31c55ac17031602e5479ada579de8a7e5567231e09f32a1d473fd181a687a2f, account=0x529043886F21D9bc1AE0feDb751e34265a246e47\n"
     ]
    },
    {
     "name": "stderr",
     "output_type": "stream",
     "text": [
      "INFO:ocean_lib.data_provider.data_service_provider:invoke compute endpoint with this url: http://172.15.0.4:8030/api/services/compute?consumerAddress=0x529043886F21D9bc1AE0feDb751e34265a246e47&documentId=did%3Aop%3Ad31c55ac17031602e5479ada579de8a7e5567231e09f32a1d473fd181a687a2f&jobId=4e7ae74a1d5240a189575e7f13ac1ce2&nonce=1661978826.190354&signature=0xe40b00eaf5cc3fe3c6a232b00538ed400f0b7817502af7a1e22bc341067f3cc83c5da3207f754981f47799985287791924dd98ab2d8101e74c8b64981f59bcb71b\n"
     ]
    },
    {
     "name": "stdout",
     "output_type": "stream",
     "text": [
      "signing message with nonce 1661978826.190354: 0x529043886F21D9bc1AE0feDb751e34265a246e474e7ae74a1d5240a189575e7f13ac1ce2did:op:d31c55ac17031602e5479ada579de8a7e5567231e09f32a1d473fd181a687a2f, account=0x529043886F21D9bc1AE0feDb751e34265a246e47\n"
     ]
    },
    {
     "name": "stderr",
     "output_type": "stream",
     "text": [
      "INFO:ocean_lib.data_provider.data_service_provider:invoke compute endpoint with this url: http://172.15.0.4:8030/api/services/compute?consumerAddress=0x529043886F21D9bc1AE0feDb751e34265a246e47&documentId=did%3Aop%3Ad31c55ac17031602e5479ada579de8a7e5567231e09f32a1d473fd181a687a2f&jobId=4e7ae74a1d5240a189575e7f13ac1ce2&nonce=1661978831.24647&signature=0xee963d4a635b62309fc8a36d84b8ba3b7bd43ce9336dfe44ac18f6daffdaafdd36dc41149cc64e5186eeb3d76b28a854bf55b83407fef5148b705f815cd356e71b\n"
     ]
    },
    {
     "name": "stdout",
     "output_type": "stream",
     "text": [
      "signing message with nonce 1661978831.24647: 0x529043886F21D9bc1AE0feDb751e34265a246e474e7ae74a1d5240a189575e7f13ac1ce2did:op:d31c55ac17031602e5479ada579de8a7e5567231e09f32a1d473fd181a687a2f, account=0x529043886F21D9bc1AE0feDb751e34265a246e47\n"
     ]
    },
    {
     "name": "stderr",
     "output_type": "stream",
     "text": [
      "INFO:ocean_lib.data_provider.data_service_provider:invoke compute endpoint with this url: http://172.15.0.4:8030/api/services/compute?consumerAddress=0x529043886F21D9bc1AE0feDb751e34265a246e47&documentId=did%3Aop%3Ad31c55ac17031602e5479ada579de8a7e5567231e09f32a1d473fd181a687a2f&jobId=4e7ae74a1d5240a189575e7f13ac1ce2&nonce=1661978837.410024&signature=0x82f80602b84001fb11944d23c65e4a9b0e82d934009fc6626f4d2151214ae47a5c59bf73b4ae5bc3ffd07ed57c8d6b7f4af6d44a47e6b1a99d331b6849c1fd151c\n"
     ]
    },
    {
     "name": "stdout",
     "output_type": "stream",
     "text": [
      "signing message with nonce 1661978837.410024: 0x529043886F21D9bc1AE0feDb751e34265a246e474e7ae74a1d5240a189575e7f13ac1ce2did:op:d31c55ac17031602e5479ada579de8a7e5567231e09f32a1d473fd181a687a2f, account=0x529043886F21D9bc1AE0feDb751e34265a246e47\n"
     ]
    },
    {
     "name": "stderr",
     "output_type": "stream",
     "text": [
      "INFO:ocean_lib.data_provider.data_service_provider:invoke compute endpoint with this url: http://172.15.0.4:8030/api/services/compute?consumerAddress=0x529043886F21D9bc1AE0feDb751e34265a246e47&documentId=did%3Aop%3Ad31c55ac17031602e5479ada579de8a7e5567231e09f32a1d473fd181a687a2f&jobId=4e7ae74a1d5240a189575e7f13ac1ce2&nonce=1661978842.457651&signature=0x5ac5724750f594fb38bd41b70d5e2f2f4b6307d16a750efbe971299d0650343b6ab01f6db62dcbac30f68d700ed1016f83111bbfcca4c083f218841b06d07c681b\n"
     ]
    },
    {
     "name": "stdout",
     "output_type": "stream",
     "text": [
      "signing message with nonce 1661978842.457651: 0x529043886F21D9bc1AE0feDb751e34265a246e474e7ae74a1d5240a189575e7f13ac1ce2did:op:d31c55ac17031602e5479ada579de8a7e5567231e09f32a1d473fd181a687a2f, account=0x529043886F21D9bc1AE0feDb751e34265a246e47\n"
     ]
    }
   ],
   "source": [
    "# Wait until job is done\n",
    "import time\n",
    "from decimal import Decimal\n",
    "succeeded = False\n",
    "for _ in range(0, 200):\n",
    "    status = ocean.compute.status(DATA_asset, compute_service, job_id, bob_wallet)\n",
    "    if status.get(\"dateFinished\") and Decimal(status[\"dateFinished\"]) > 0:\n",
    "        succeeded = True\n",
    "        break\n",
    "    time.sleep(5)"
   ]
  },
  {
   "cell_type": "code",
   "execution_count": 18,
   "id": "43517297-b02d-465a-aab3-28a1f63f9382",
   "metadata": {},
   "outputs": [
    {
     "name": "stderr",
     "output_type": "stream",
     "text": [
      "INFO:ocean_lib.data_provider.data_service_provider:invoke compute endpoint with this url: http://172.15.0.4:8030/api/services/compute?consumerAddress=0x529043886F21D9bc1AE0feDb751e34265a246e47&documentId=did%3Aop%3Ad31c55ac17031602e5479ada579de8a7e5567231e09f32a1d473fd181a687a2f&jobId=4e7ae74a1d5240a189575e7f13ac1ce2&nonce=1661979069.052611&signature=0x15f1a218a3ef96a80bead3c6e34a7d41b7bbc77e0285b3aa60d7005bb0eb59a445eca9a9539d49db7d732748cb2a1bb3cc83edd266db48b0bf0e712c85f1d9791b\n",
      "INFO:ocean_lib.data_provider.data_service_provider:invoke the computeResult endpoint with this url: http://172.15.0.4:8030/api/services/computeResult?signature=0x9eb14c3578446bbe5062e32bc36e21ad2a740d2f05eaa3898ec692f5ce7ec0fa397535c7139c30b72d9ed674615319f1c762864a3174f85a1f2ddcabfe7f2d5c1c&nonce=1661979069.096261&jobId=4e7ae74a1d5240a189575e7f13ac1ce2&index=0&consumerAddress=0x529043886F21D9bc1AE0feDb751e34265a246e47\n"
     ]
    },
    {
     "name": "stdout",
     "output_type": "stream",
     "text": [
      "signing message with nonce 1661979069.052611: 0x529043886F21D9bc1AE0feDb751e34265a246e474e7ae74a1d5240a189575e7f13ac1ce2did:op:d31c55ac17031602e5479ada579de8a7e5567231e09f32a1d473fd181a687a2f, account=0x529043886F21D9bc1AE0feDb751e34265a246e47\n",
      "signing message with nonce 1661979069.096261: 0x529043886F21D9bc1AE0feDb751e34265a246e474e7ae74a1d5240a189575e7f13ac1ce20, account=0x529043886F21D9bc1AE0feDb751e34265a246e47\n"
     ]
    },
    {
     "ename": "DataProviderException",
     "evalue": "Failed to get a response for request: jobResultEndpoint=http://172.15.0.4:8030/api/services/computeResult, payload={'signature': '0x9eb14c3578446bbe5062e32bc36e21ad2a740d2f05eaa3898ec692f5ce7ec0fa397535c7139c30b72d9ed674615319f1c762864a3174f85a1f2ddcabfe7f2d5c1c', 'nonce': '1661979069.096261', 'jobId': '4e7ae74a1d5240a189575e7f13ac1ce2', 'index': 0, 'consumerAddress': '0x529043886F21D9bc1AE0feDb751e34265a246e47'}, response is <Response [404]>",
     "output_type": "error",
     "traceback": [
      "\u001b[0;31m---------------------------------------------------------------------------\u001b[0m",
      "\u001b[0;31mDataProviderException\u001b[0m                     Traceback (most recent call last)",
      "Input \u001b[0;32mIn [18]\u001b[0m, in \u001b[0;36m<cell line: 2>\u001b[0;34m()\u001b[0m\n\u001b[1;32m      1\u001b[0m \u001b[38;5;66;03m# Retrieve algorithm output and log files\u001b[39;00m\n\u001b[0;32m----> 2\u001b[0m output \u001b[38;5;241m=\u001b[39m \u001b[43mocean\u001b[49m\u001b[38;5;241;43m.\u001b[39;49m\u001b[43mcompute\u001b[49m\u001b[38;5;241;43m.\u001b[39;49m\u001b[43mcompute_job_result_logs\u001b[49m\u001b[43m(\u001b[49m\n\u001b[1;32m      3\u001b[0m \u001b[43m    \u001b[49m\u001b[43mDATA_asset\u001b[49m\u001b[43m,\u001b[49m\u001b[43m \u001b[49m\u001b[43mcompute_service\u001b[49m\u001b[43m,\u001b[49m\u001b[43m \u001b[49m\u001b[43mjob_id\u001b[49m\u001b[43m,\u001b[49m\u001b[43m \u001b[49m\u001b[43mbob_wallet\u001b[49m\n\u001b[1;32m      4\u001b[0m \u001b[43m)\u001b[49m[\u001b[38;5;241m0\u001b[39m]\n\u001b[1;32m      6\u001b[0m \u001b[38;5;28;01mimport\u001b[39;00m \u001b[38;5;21;01mpickle\u001b[39;00m\n\u001b[1;32m      7\u001b[0m model \u001b[38;5;241m=\u001b[39m pickle\u001b[38;5;241m.\u001b[39mloads(output)  \u001b[38;5;66;03m# the gaussian model result\u001b[39;00m\n",
      "File \u001b[0;32m/usr/local/lib/python3.8/dist-packages/enforce_typing/decorator.py:29\u001b[0m, in \u001b[0;36menforce_types.<locals>.decorate.<locals>.wrapper\u001b[0;34m(*args, **kwargs)\u001b[0m\n\u001b[1;32m     26\u001b[0m \u001b[38;5;129m@wraps\u001b[39m(func)\n\u001b[1;32m     27\u001b[0m \u001b[38;5;28;01mdef\u001b[39;00m \u001b[38;5;21mwrapper\u001b[39m(\u001b[38;5;241m*\u001b[39margs, \u001b[38;5;241m*\u001b[39m\u001b[38;5;241m*\u001b[39mkwargs):\n\u001b[1;32m     28\u001b[0m     check_types(\u001b[38;5;241m*\u001b[39margs, \u001b[38;5;241m*\u001b[39m\u001b[38;5;241m*\u001b[39mkwargs)\n\u001b[0;32m---> 29\u001b[0m     \u001b[38;5;28;01mreturn\u001b[39;00m \u001b[43mfunc\u001b[49m\u001b[43m(\u001b[49m\u001b[38;5;241;43m*\u001b[39;49m\u001b[43margs\u001b[49m\u001b[43m,\u001b[49m\u001b[43m \u001b[49m\u001b[38;5;241;43m*\u001b[39;49m\u001b[38;5;241;43m*\u001b[39;49m\u001b[43mkwargs\u001b[49m\u001b[43m)\u001b[49m\n",
      "File \u001b[0;32m/app/ocean.py/ocean_lib/ocean/ocean_compute.py:134\u001b[0m, in \u001b[0;36mOceanCompute.compute_job_result_logs\u001b[0;34m(self, asset, service, job_id, wallet, log_type)\u001b[0m\n\u001b[1;32m    116\u001b[0m \u001b[38;5;129m@enforce_types\u001b[39m\n\u001b[1;32m    117\u001b[0m \u001b[38;5;28;01mdef\u001b[39;00m \u001b[38;5;21mcompute_job_result_logs\u001b[39m(\n\u001b[1;32m    118\u001b[0m     \u001b[38;5;28mself\u001b[39m,\n\u001b[0;32m   (...)\u001b[0m\n\u001b[1;32m    123\u001b[0m     log_type\u001b[38;5;241m=\u001b[39m\u001b[38;5;124m\"\u001b[39m\u001b[38;5;124moutput\u001b[39m\u001b[38;5;124m\"\u001b[39m,\n\u001b[1;32m    124\u001b[0m ) \u001b[38;5;241m-\u001b[39m\u001b[38;5;241m>\u001b[39m Dict[\u001b[38;5;28mstr\u001b[39m, Any]:\n\u001b[1;32m    125\u001b[0m     \u001b[38;5;124;03m\"\"\"\u001b[39;00m\n\u001b[1;32m    126\u001b[0m \u001b[38;5;124;03m    Gets job output if exists.\u001b[39;00m\n\u001b[1;32m    127\u001b[0m \n\u001b[0;32m   (...)\u001b[0m\n\u001b[1;32m    132\u001b[0m \u001b[38;5;124;03m    :return: dict the results/logs urls for an existing compute job, keys are (did, urls, logs)\u001b[39;00m\n\u001b[1;32m    133\u001b[0m \u001b[38;5;124;03m    \"\"\"\u001b[39;00m\n\u001b[0;32m--> 134\u001b[0m     result \u001b[38;5;241m=\u001b[39m \u001b[38;5;28;43mself\u001b[39;49m\u001b[38;5;241;43m.\u001b[39;49m\u001b[43m_data_provider\u001b[49m\u001b[38;5;241;43m.\u001b[39;49m\u001b[43mcompute_job_result_logs\u001b[49m\u001b[43m(\u001b[49m\n\u001b[1;32m    135\u001b[0m \u001b[43m        \u001b[49m\u001b[43masset\u001b[49m\u001b[43m,\u001b[49m\u001b[43m \u001b[49m\u001b[43mjob_id\u001b[49m\u001b[43m,\u001b[49m\u001b[43m \u001b[49m\u001b[43mservice\u001b[49m\u001b[43m,\u001b[49m\u001b[43m \u001b[49m\u001b[43mwallet\u001b[49m\u001b[43m,\u001b[49m\u001b[43m \u001b[49m\u001b[43mlog_type\u001b[49m\n\u001b[1;32m    136\u001b[0m \u001b[43m    \u001b[49m\u001b[43m)\u001b[49m\n\u001b[1;32m    138\u001b[0m     \u001b[38;5;28;01mreturn\u001b[39;00m result\n",
      "File \u001b[0;32m/usr/local/lib/python3.8/dist-packages/enforce_typing/decorator.py:29\u001b[0m, in \u001b[0;36menforce_types.<locals>.decorate.<locals>.wrapper\u001b[0;34m(*args, **kwargs)\u001b[0m\n\u001b[1;32m     26\u001b[0m \u001b[38;5;129m@wraps\u001b[39m(func)\n\u001b[1;32m     27\u001b[0m \u001b[38;5;28;01mdef\u001b[39;00m \u001b[38;5;21mwrapper\u001b[39m(\u001b[38;5;241m*\u001b[39margs, \u001b[38;5;241m*\u001b[39m\u001b[38;5;241m*\u001b[39mkwargs):\n\u001b[1;32m     28\u001b[0m     check_types(\u001b[38;5;241m*\u001b[39margs, \u001b[38;5;241m*\u001b[39m\u001b[38;5;241m*\u001b[39mkwargs)\n\u001b[0;32m---> 29\u001b[0m     \u001b[38;5;28;01mreturn\u001b[39;00m \u001b[43mfunc\u001b[49m\u001b[43m(\u001b[49m\u001b[38;5;241;43m*\u001b[39;49m\u001b[43margs\u001b[49m\u001b[43m,\u001b[49m\u001b[43m \u001b[49m\u001b[38;5;241;43m*\u001b[39;49m\u001b[38;5;241;43m*\u001b[39;49m\u001b[43mkwargs\u001b[49m\u001b[43m)\u001b[49m\n",
      "File \u001b[0;32m/app/ocean.py/ocean_lib/data_provider/data_service_provider.py:416\u001b[0m, in \u001b[0;36mDataServiceProvider.compute_job_result_logs\u001b[0;34m(asset, job_id, dataset_compute_service, consumer, log_type)\u001b[0m\n\u001b[1;32m    414\u001b[0m result \u001b[38;5;241m=\u001b[39m \u001b[38;5;28;01mNone\u001b[39;00m\n\u001b[1;32m    415\u001b[0m result_type \u001b[38;5;241m=\u001b[39m status[\u001b[38;5;124m\"\u001b[39m\u001b[38;5;124mresults\u001b[39m\u001b[38;5;124m\"\u001b[39m][i][\u001b[38;5;124m\"\u001b[39m\u001b[38;5;124mtype\u001b[39m\u001b[38;5;124m\"\u001b[39m]\n\u001b[0;32m--> 416\u001b[0m result \u001b[38;5;241m=\u001b[39m \u001b[43mDataServiceProvider\u001b[49m\u001b[38;5;241;43m.\u001b[39;49m\u001b[43mcompute_job_result\u001b[49m\u001b[43m(\u001b[49m\n\u001b[1;32m    417\u001b[0m \u001b[43m    \u001b[49m\u001b[43mjob_id\u001b[49m\u001b[43m,\u001b[49m\u001b[43m \u001b[49m\u001b[43mi\u001b[49m\u001b[43m,\u001b[49m\u001b[43m \u001b[49m\u001b[43mdataset_compute_service\u001b[49m\u001b[43m,\u001b[49m\u001b[43m \u001b[49m\u001b[43mconsumer\u001b[49m\n\u001b[1;32m    418\u001b[0m \u001b[43m\u001b[49m\u001b[43m)\u001b[49m\n\u001b[1;32m    419\u001b[0m \u001b[38;5;28;01massert\u001b[39;00m result, \u001b[38;5;124m\"\u001b[39m\u001b[38;5;124mresult retrieval unsuccessful\u001b[39m\u001b[38;5;124m\"\u001b[39m\n\u001b[1;32m    421\u001b[0m \u001b[38;5;66;03m# Extract algorithm output\u001b[39;00m\n",
      "File \u001b[0;32m/usr/local/lib/python3.8/dist-packages/enforce_typing/decorator.py:29\u001b[0m, in \u001b[0;36menforce_types.<locals>.decorate.<locals>.wrapper\u001b[0;34m(*args, **kwargs)\u001b[0m\n\u001b[1;32m     26\u001b[0m \u001b[38;5;129m@wraps\u001b[39m(func)\n\u001b[1;32m     27\u001b[0m \u001b[38;5;28;01mdef\u001b[39;00m \u001b[38;5;21mwrapper\u001b[39m(\u001b[38;5;241m*\u001b[39margs, \u001b[38;5;241m*\u001b[39m\u001b[38;5;241m*\u001b[39mkwargs):\n\u001b[1;32m     28\u001b[0m     check_types(\u001b[38;5;241m*\u001b[39margs, \u001b[38;5;241m*\u001b[39m\u001b[38;5;241m*\u001b[39mkwargs)\n\u001b[0;32m---> 29\u001b[0m     \u001b[38;5;28;01mreturn\u001b[39;00m \u001b[43mfunc\u001b[49m\u001b[43m(\u001b[49m\u001b[38;5;241;43m*\u001b[39;49m\u001b[43margs\u001b[49m\u001b[43m,\u001b[49m\u001b[43m \u001b[49m\u001b[38;5;241;43m*\u001b[39;49m\u001b[38;5;241;43m*\u001b[39;49m\u001b[43mkwargs\u001b[49m\u001b[43m)\u001b[49m\n",
      "File \u001b[0;32m/app/ocean.py/ocean_lib/data_provider/data_service_provider.py:386\u001b[0m, in \u001b[0;36mDataServiceProvider.compute_job_result\u001b[0;34m(job_id, index, dataset_compute_service, consumer)\u001b[0m\n\u001b[1;32m    381\u001b[0m logger\u001b[38;5;241m.\u001b[39minfo(\n\u001b[1;32m    382\u001b[0m     \u001b[38;5;124mf\u001b[39m\u001b[38;5;124m\"\u001b[39m\u001b[38;5;124minvoke the computeResult endpoint with this url: \u001b[39m\u001b[38;5;132;01m{\u001b[39;00mcompute_job_result_file_url\u001b[38;5;132;01m}\u001b[39;00m\u001b[38;5;124m\"\u001b[39m\n\u001b[1;32m    383\u001b[0m )\n\u001b[1;32m    384\u001b[0m response \u001b[38;5;241m=\u001b[39m DataServiceProvider\u001b[38;5;241m.\u001b[39m_http_method(\u001b[38;5;124m\"\u001b[39m\u001b[38;5;124mget\u001b[39m\u001b[38;5;124m\"\u001b[39m, compute_job_result_file_url)\n\u001b[0;32m--> 386\u001b[0m \u001b[43mDataServiceProviderBase\u001b[49m\u001b[38;5;241;43m.\u001b[39;49m\u001b[43mcheck_response\u001b[49m\u001b[43m(\u001b[49m\n\u001b[1;32m    387\u001b[0m \u001b[43m    \u001b[49m\u001b[43mresponse\u001b[49m\u001b[43m,\u001b[49m\u001b[43m \u001b[49m\u001b[38;5;124;43m\"\u001b[39;49m\u001b[38;5;124;43mjobResultEndpoint\u001b[39;49m\u001b[38;5;124;43m\"\u001b[39;49m\u001b[43m,\u001b[49m\u001b[43m \u001b[49m\u001b[43mcompute_job_result_endpoint\u001b[49m\u001b[43m,\u001b[49m\u001b[43m \u001b[49m\u001b[43mparams\u001b[49m\n\u001b[1;32m    388\u001b[0m \u001b[43m\u001b[49m\u001b[43m)\u001b[49m\n\u001b[1;32m    390\u001b[0m \u001b[38;5;28;01mreturn\u001b[39;00m response\u001b[38;5;241m.\u001b[39mcontent\n",
      "File \u001b[0;32m/usr/local/lib/python3.8/dist-packages/enforce_typing/decorator.py:29\u001b[0m, in \u001b[0;36menforce_types.<locals>.decorate.<locals>.wrapper\u001b[0;34m(*args, **kwargs)\u001b[0m\n\u001b[1;32m     26\u001b[0m \u001b[38;5;129m@wraps\u001b[39m(func)\n\u001b[1;32m     27\u001b[0m \u001b[38;5;28;01mdef\u001b[39;00m \u001b[38;5;21mwrapper\u001b[39m(\u001b[38;5;241m*\u001b[39margs, \u001b[38;5;241m*\u001b[39m\u001b[38;5;241m*\u001b[39mkwargs):\n\u001b[1;32m     28\u001b[0m     check_types(\u001b[38;5;241m*\u001b[39margs, \u001b[38;5;241m*\u001b[39m\u001b[38;5;241m*\u001b[39mkwargs)\n\u001b[0;32m---> 29\u001b[0m     \u001b[38;5;28;01mreturn\u001b[39;00m \u001b[43mfunc\u001b[49m\u001b[43m(\u001b[49m\u001b[38;5;241;43m*\u001b[39;49m\u001b[43margs\u001b[49m\u001b[43m,\u001b[49m\u001b[43m \u001b[49m\u001b[38;5;241;43m*\u001b[39;49m\u001b[38;5;241;43m*\u001b[39;49m\u001b[43mkwargs\u001b[49m\u001b[43m)\u001b[49m\n",
      "File \u001b[0;32m/app/ocean.py/ocean_lib/data_provider/base.py:307\u001b[0m, in \u001b[0;36mDataServiceProviderBase.check_response\u001b[0;34m(response, endpoint_name, endpoint, payload, success_codes, exception_type)\u001b[0m\n\u001b[1;32m    303\u001b[0m             error \u001b[38;5;241m=\u001b[39m response\u001b[38;5;241m.\u001b[39mjson()\u001b[38;5;241m.\u001b[39mget(\u001b[38;5;124m\"\u001b[39m\u001b[38;5;124merrors\u001b[39m\u001b[38;5;124m\"\u001b[39m, \u001b[38;5;124m\"\u001b[39m\u001b[38;5;124munknown error\u001b[39m\u001b[38;5;124m\"\u001b[39m)\n\u001b[1;32m    305\u001b[0m         \u001b[38;5;28;01mraise\u001b[39;00m DataProviderException(\u001b[38;5;124mf\u001b[39m\u001b[38;5;124m\"\u001b[39m\u001b[38;5;132;01m{\u001b[39;00mendpoint_name\u001b[38;5;132;01m}\u001b[39;00m\u001b[38;5;124m failed: \u001b[39m\u001b[38;5;132;01m{\u001b[39;00merror\u001b[38;5;132;01m}\u001b[39;00m\u001b[38;5;124m\"\u001b[39m)\n\u001b[0;32m--> 307\u001b[0m     \u001b[38;5;28;01mraise\u001b[39;00m DataProviderException(\n\u001b[1;32m    308\u001b[0m         \u001b[38;5;124mf\u001b[39m\u001b[38;5;124m\"\u001b[39m\u001b[38;5;124mFailed to get a response for request: \u001b[39m\u001b[38;5;132;01m{\u001b[39;00mendpoint_name\u001b[38;5;132;01m}\u001b[39;00m\u001b[38;5;124m=\u001b[39m\u001b[38;5;132;01m{\u001b[39;00mendpoint\u001b[38;5;132;01m}\u001b[39;00m\u001b[38;5;124m, payload=\u001b[39m\u001b[38;5;132;01m{\u001b[39;00mpayload\u001b[38;5;132;01m}\u001b[39;00m\u001b[38;5;124m, response is \u001b[39m\u001b[38;5;132;01m{\u001b[39;00mresponse\u001b[38;5;132;01m}\u001b[39;00m\u001b[38;5;124m\"\u001b[39m\n\u001b[1;32m    309\u001b[0m     )\n\u001b[1;32m    311\u001b[0m \u001b[38;5;28;01mif\u001b[39;00m \u001b[38;5;129;01mnot\u001b[39;00m success_codes:\n\u001b[1;32m    312\u001b[0m     success_codes \u001b[38;5;241m=\u001b[39m [\u001b[38;5;241m200\u001b[39m]\n",
      "\u001b[0;31mDataProviderException\u001b[0m: Failed to get a response for request: jobResultEndpoint=http://172.15.0.4:8030/api/services/computeResult, payload={'signature': '0x9eb14c3578446bbe5062e32bc36e21ad2a740d2f05eaa3898ec692f5ce7ec0fa397535c7139c30b72d9ed674615319f1c762864a3174f85a1f2ddcabfe7f2d5c1c', 'nonce': '1661979069.096261', 'jobId': '4e7ae74a1d5240a189575e7f13ac1ce2', 'index': 0, 'consumerAddress': '0x529043886F21D9bc1AE0feDb751e34265a246e47'}, response is <Response [404]>"
     ]
    }
   ],
   "source": []
  },
  {
   "cell_type": "code",
   "execution_count": 20,
   "id": "8ed5f107-3316-440e-86d7-4baf42f19d11",
   "metadata": {},
   "outputs": [
    {
     "data": {
      "text/plain": [
       "<ocean_lib.assets.asset.Asset at 0x7f3a738ffeb0>"
      ]
     },
     "execution_count": 21,
     "metadata": {},
     "output_type": "execute_result"
    }
   ],
   "source": []
  },
  {
   "cell_type": "code",
   "execution_count": null,
   "id": "31005f70-46eb-4e11-9df4-f0cc2a15c502",
   "metadata": {},
   "outputs": [],
   "source": []
  }
 ],
 "metadata": {
  "kernelspec": {
   "display_name": "Python 3 (ipykernel)",
   "language": "python",
   "name": "python3"
  },
  "language_info": {
   "codemirror_mode": {
    "name": "ipython",
    "version": 3
   },
   "file_extension": ".py",
   "mimetype": "text/x-python",
   "name": "python",
   "nbconvert_exporter": "python",
   "pygments_lexer": "ipython3",
   "version": "3.8.10"
  }
 },
 "nbformat": 4,
 "nbformat_minor": 5
}
